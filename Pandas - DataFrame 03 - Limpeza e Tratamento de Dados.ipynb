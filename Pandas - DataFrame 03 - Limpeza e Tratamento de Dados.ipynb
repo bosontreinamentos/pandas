{
 "cells": [
  {
   "cell_type": "markdown",
   "id": "08d19265",
   "metadata": {},
   "source": [
    "### Biblioteca Pandas: Limpeza e Tratamento de Dados"
   ]
  },
  {
   "cell_type": "code",
   "execution_count": null,
   "id": "1469caa6",
   "metadata": {},
   "outputs": [],
   "source": [
    "#!pip install pandas"
   ]
  },
  {
   "cell_type": "code",
   "execution_count": null,
   "id": "9a7a8a71",
   "metadata": {},
   "outputs": [],
   "source": [
    "import pandas as pd"
   ]
  },
  {
   "cell_type": "markdown",
   "id": "7db106ee-5dac-409e-aa98-a304075fc4f3",
   "metadata": {},
   "source": [
    "**Criar um DataFrame**\n",
    "\n",
    "Vamos criar  um DataFrame a partir de outro dicionário que contém nomes de países, quantidade de títulos mundiais, participações em copas, ano em que ganhou o primeiro título e continente o nde o país se encontra.\n"
   ]
  },
  {
   "cell_type": "code",
   "execution_count": null,
   "id": "03a14118",
   "metadata": {},
   "outputs": [],
   "source": [
    "dicionario={'País':['Brasil','Uruguai','Bélgica','Inglaterra','Espanha','Holanda','Itália',\n",
    "                    'Argentina','Alemanha','França','Croácia','Portugal','México','Japão','Suécia','Sérvia','Chile','Finlândia','França','Síria'],\n",
    "           'Ano':[1958,1930,None,1966,2010,None,1934,1978,1954,1998,None,None,None,None,None,None,None,None,1998,None],\n",
    "           'Titulos':[5,2,0,1,1,0,4,3,4,2,0,0,0,0,0,0,0,0,2,0],\n",
    "           'Participações':[22,14,14,16,16,11,18,18,20,16,6,8,18,7,12,13,9,0,16,0],\n",
    "            'Continentes':['América do Sul','América do Sul','Europa','Europa','Europa','Europa','Europa','América do Sul','Europa','Europa','Europa','Europa','América do Norte','Ásia','Europa','Europa','América do Sul','Europa','Europa','Ásia']\n",
    "           }\n",
    "\n",
    "dados = pd.DataFrame(dicionario)\n",
    "print(dados)\n",
    "\n",
    "'''\n",
    "Obs.: O Pandas interpreta o ano como float porque há valores nulos (None) na coluna 'Ano',\n",
    "o que resulta em uma coluna de tipo float.\n",
    "'''"
   ]
  },
  {
   "cell_type": "markdown",
   "id": "c171fb8c",
   "metadata": {},
   "source": [
    "## 1. Tratamento de valores ausentes ##\n",
    "\n",
    "Para lidar com valores ausentes em um DataFrame, podemos usar os métodos **.isna()**, **.fillna()** e **.dropna()**."
   ]
  },
  {
   "cell_type": "code",
   "execution_count": null,
   "id": "e07a4277",
   "metadata": {
    "scrolled": false
   },
   "outputs": [],
   "source": [
    "# Verificar quais valores são NaN (ausentes)\n",
    "\n",
    "print(\"Valores ausentes no DataFrame\")\n",
    "print(dados.isna())\n",
    "\n",
    "# isna() retorna um dataframe booleano indicando o status dos valores NaN"
   ]
  },
  {
   "cell_type": "code",
   "execution_count": null,
   "id": "87074c2e",
   "metadata": {},
   "outputs": [],
   "source": [
    "# Prencher valores NaN com um valor específico, por exemplo -1\n",
    "\n",
    "dados.fillna(-1, inplace=True)\n",
    "print(dados)"
   ]
  },
  {
   "cell_type": "code",
   "execution_count": null,
   "id": "01f15c0e",
   "metadata": {},
   "outputs": [],
   "source": [
    "# Recriar df alterado\n",
    "dicionario={'País':['Brasil','Uruguai','Bélgica','Inglaterra','Espanha','Holanda','Itália',\n",
    "                    'Argentina','Alemanha','França','Croácia','Portugal','México','Japão','Suécia','Sérvia','Chile','Finlândia','França','Síria'],\n",
    "           'Ano':[1958,1930,None,1966,2010,None,1934,1978,1954,1998,None,None,None,None,None,None,None,None,1998,None],\n",
    "           'Titulos':[5,2,0,1,1,0,4,3,4,2,0,0,0,0,0,0,0,0,2,0],\n",
    "           'Participações':[22,14,14,16,16,11,18,18,20,16,6,8,18,7,12,13,9,0,16,0],\n",
    "            'Continentes':['América do Sul','América do Sul','Europa','Europa','Europa','Europa','Europa','América do Sul','Europa','Europa','Europa','Europa','América do Norte','Ásia','Europa','Europa','América do Sul','Europa','Europa','Ásia']\n",
    "           }\n",
    "\n",
    "dados = pd.DataFrame(dicionario)"
   ]
  },
  {
   "cell_type": "code",
   "execution_count": null,
   "id": "b080f517",
   "metadata": {},
   "outputs": [],
   "source": [
    "# Remover linhas que possuam valores NaN\n",
    "# dados.dropna(inplace=True) # caso deseje alterar o próprio df\n",
    "dados2 = dados.dropna()\n",
    "print(dados2)"
   ]
  },
  {
   "cell_type": "markdown",
   "id": "a9750875",
   "metadata": {},
   "source": [
    "## 2. Tratar dados duplicados ##"
   ]
  },
  {
   "cell_type": "code",
   "execution_count": null,
   "id": "a55971ff",
   "metadata": {
    "scrolled": true
   },
   "outputs": [],
   "source": [
    "# Verificar dados duplicados: método .duplicated() (retorna índices e valores booleanos)\n",
    "\n",
    "print(dados.duplicated())"
   ]
  },
  {
   "cell_type": "code",
   "execution_count": null,
   "id": "d08d74f5",
   "metadata": {},
   "outputs": [],
   "source": [
    "# Verificar os dados na linha duplicada:\n",
    "\n",
    "duplicadas = dados[dados.duplicated()] # passar retorno de duplicated() como índice\n",
    "print(duplicadas)"
   ]
  },
  {
   "cell_type": "code",
   "execution_count": null,
   "id": "24d61526",
   "metadata": {
    "scrolled": true
   },
   "outputs": [],
   "source": [
    "# Remover duplicatas: método .drop_duplicates()\n",
    "\n",
    "dados2 = dados.drop_duplicates() # inplace=True modifica o próprio df.\n",
    "print(dados2)"
   ]
  },
  {
   "cell_type": "markdown",
   "id": "fcfe2d17",
   "metadata": {},
   "source": [
    "### Criar outro dataframe para aplicar mais técnicas ###"
   ]
  },
  {
   "cell_type": "code",
   "execution_count": null,
   "id": "fe4cb1d5",
   "metadata": {},
   "outputs": [],
   "source": [
    "temperaturas={'Hora':['00:00','00:01','00:02','00:03','00:04','00:05','00:06','00:07','00:08','00:09','00:10','00:11','00:12','00:13','00:14','00:15','00:16','00:17','00:18','00:19','00:20','00:21'],\n",
    "           'Leitura':[14.5,14.5,14.6,14.7,14.6,14.6,14.7,14.7,None,14.8,14.8,14.8,14.9,14.9,15.0,15.0,None,15.1,15.1,15.1,15.2,15.2]\n",
    "}\n",
    "\n",
    "dados = pd.DataFrame(temperaturas)\n",
    "\n",
    "print(dados)\n",
    "\n",
    "'''\n",
    "Note que há duas leituras ausentes: 8 e 16. Podem ter sido causadas por falhas\n",
    "no sensor ou na comunicação.\n",
    "'''\n",
    "\n",
    "# Exportar DataFrame para CSV\n",
    "dados.to_csv('temperaturas.csv', index=False)"
   ]
  },
  {
   "cell_type": "code",
   "execution_count": null,
   "id": "4d1e3bd2",
   "metadata": {
    "scrolled": true
   },
   "outputs": [],
   "source": [
    "# Verificar os tipos de dados das colunas\n",
    "\n",
    "print(dados.dtypes)"
   ]
  },
  {
   "cell_type": "markdown",
   "id": "060c78b0",
   "metadata": {},
   "source": [
    "Como tratar esses valores ausentes?  \n",
    "Podemos usar algumas abordagens, tais como:  \n",
    "1. Preencher com a média da coluna\n",
    "2.  Remover as linhas com NaN\n",
    "3. Preencher com Métodos de Interpolação\n",
    "4. Valores Anteriores ou Posteriores\n",
    "5. Valores Fixos"
   ]
  },
  {
   "cell_type": "code",
   "execution_count": null,
   "id": "ad39eeba",
   "metadata": {},
   "outputs": [],
   "source": [
    "# 1. Preencher com a média dos outros valores da coluna\n",
    "\n",
    "media = dados['Leitura'].mean()\n",
    "dados['Leitura'].fillna(media, inplace=True)\n",
    "print(dados)\n",
    "\n",
    "# Mostrar a média de temperatura\n",
    "media = dados['Leitura'].mean()\n",
    "print(f'Média de temperatura: {media:.2f}')"
   ]
  },
  {
   "cell_type": "code",
   "execution_count": null,
   "id": "c06c303e",
   "metadata": {},
   "outputs": [],
   "source": [
    "# 2. Remover as linhas com NaN\n",
    "dados = pd.read_csv('temperaturas.csv') # recarregar dataframe original\n",
    "\n",
    "dados.dropna(inplace=True)\n",
    "print(dados)\n",
    "\n",
    "# Mostrar a média de temperatura\n",
    "media = dados['Leitura'].mean()\n",
    "print(f'Média de temperatura: {media:.2f}')"
   ]
  },
  {
   "cell_type": "code",
   "execution_count": null,
   "id": "69a1b067",
   "metadata": {},
   "outputs": [],
   "source": [
    "# 3. Preencher com Métodos de Interpolação (preenche com base em valores adjacentes)\n",
    "dados = pd.read_csv('temperaturas.csv')\n",
    "\n",
    "dados['Leitura'].interpolate(method='linear', inplace=True)\n",
    "print(dados)\n",
    "\n",
    "# Mostrar a média de temperatura\n",
    "media = dados['Leitura'].mean()\n",
    "print(f'Média de temperatura: {media:.2f}')"
   ]
  },
  {
   "cell_type": "code",
   "execution_count": null,
   "id": "47db2693",
   "metadata": {},
   "outputs": [],
   "source": [
    "# 4. Preencher com Valores Anteriores ou Posteriores\n",
    "dados = pd.read_csv('temperaturas.csv')\n",
    "\n",
    "# Preenchimento com valor anterior (forward fill)\n",
    "dados['Leitura'].fillna(method='ffill', inplace=True)  \n",
    "\n",
    "# Preenchimento com valor posterior (backward fill)\n",
    "# dados['Leitura'].fillna(method='bfill', inplace=True)  # descomentar para testar\n",
    "\n",
    "print(dados)\n",
    "\n",
    "# Mostrar a média de temperatura\n",
    "media = dados['Leitura'].mean()\n",
    "print(f'Média de temperatura: {media:.2f}')"
   ]
  },
  {
   "cell_type": "code",
   "execution_count": null,
   "id": "a3a47605",
   "metadata": {},
   "outputs": [],
   "source": [
    "# 5. Preencher com Valores Fixos\n",
    "dados = pd.read_csv('temperaturas.csv')\n",
    "\n",
    "# Usar o valor 15 (estimativa) para substituir valores NaN\n",
    "dados.fillna(15, inplace=True)\n",
    "\n",
    "print(dados)\n",
    "\n",
    "# Mostrar a média de temperatura\n",
    "media = dados['Leitura'].mean()\n",
    "print(f'Média de temperatura: {media:.2f}')"
   ]
  },
  {
   "cell_type": "code",
   "execution_count": null,
   "id": "bba7bf97",
   "metadata": {},
   "outputs": [],
   "source": [
    "# Criar DataFrame a partir de arquivo CSV: cotações de papel da bolsa de 100 dias\n",
    "# Fonte dos dados (.csv): https://www.infomoney.com.br/cotacoes/b3/acao/vale-vale3/historico\n",
    "\n",
    "dados = pd.read_csv('VALE3.csv')\n",
    "\n",
    "print(dados)"
   ]
  },
  {
   "cell_type": "code",
   "execution_count": null,
   "id": "046566b5",
   "metadata": {},
   "outputs": [],
   "source": []
  },
  {
   "cell_type": "markdown",
   "id": "425768a1",
   "metadata": {},
   "source": [
    "## 0. Conversão de tipos de dados ## "
   ]
  },
  {
   "cell_type": "code",
   "execution_count": null,
   "id": "cee75fb9",
   "metadata": {
    "scrolled": true
   },
   "outputs": [],
   "source": [
    "# Converter coluna de ano para int (está como float)\n",
    "\n",
    "# Substituimos os valores nulos na coluna 'Ano' por um inteiro, como -1\n",
    "dados['Ano'].fillna(-1, inplace=True)\n",
    "\n",
    "# Convertemos a coluna 'Ano' para inteiros\n",
    "dados['Ano'] = dados['Ano'].astype(int)\n",
    "\n",
    "# Verificação\n",
    "print(dados['Ano'].dtype)\n",
    "print(dados)"
   ]
  },
  {
   "cell_type": "code",
   "execution_count": null,
   "id": "6bec1159",
   "metadata": {},
   "outputs": [],
   "source": []
  },
  {
   "cell_type": "code",
   "execution_count": null,
   "id": "6e97c2ce",
   "metadata": {},
   "outputs": [],
   "source": []
  },
  {
   "cell_type": "code",
   "execution_count": null,
   "id": "c0d58ee9",
   "metadata": {},
   "outputs": [],
   "source": []
  },
  {
   "cell_type": "code",
   "execution_count": null,
   "id": "ab00dbe1",
   "metadata": {},
   "outputs": [],
   "source": []
  },
  {
   "cell_type": "markdown",
   "id": "db215a96",
   "metadata": {},
   "source": [
    "## Importar arquivo CSV ##\n",
    "\n",
    "Para importar um arquivo CSV para um DataFrame do Pandas, usamos a função read_csv().\n",
    "Essa função permite que carregar dados de um arquivo CSV e convertê-los em um DataFrame.\n",
    "\n",
    "Sintaxe:\n",
    "\n",
    "***df = pd.read_csv('nome_do_arquivo.csv')***\n",
    "\n",
    "Aqui, o arquivo \"nome_do_arquivo.csv\" deve estar no mesmo diretório em que o seu script Python está sendo executado. A função read_csv() lerá o arquivo e o converterá em um DataFrame.\n",
    "\n",
    "Se o arquivo CSV estiver localizado em um diretório diferente, devemos especificar o caminho completo do arquivo:\n",
    "\n",
    "***df = pd.read_csv('/caminho/completo/para/nome_do_arquivo.csv')***\n",
    "\n",
    "Note que a função read_csv() possui muitos parâmetros que permitem personalizar a importação dos dados, como delimitadores, codificação, tratamento de valores ausentes, etc.\n",
    "\n",
    "Recomendo consultar a documentação oficial do Pandas para obter mais informações sobre esses parâmetros e suas opções.\n",
    "\n",
    "Vamos importar um DF em formato CSV. Após realizar modificações no arquivo copa.csv, vamos carregá-lo em um novo DF de nome \"dados2\".\n",
    "\n",
    "Abrimos o arquivo CVS gerado (copa.csv) em um editor de textos e acrescentamos os dados a seguir:\n",
    "\n",
    "Sérvia,,0,13  \n",
    "Chile,,0,9\n",
    "\n",
    "(não esqueça de dar enter na última linha)."
   ]
  },
  {
   "cell_type": "code",
   "execution_count": null,
   "id": "2dd074a0",
   "metadata": {},
   "outputs": [],
   "source": [
    "# Método 1: Usando 'isna()'\n",
    "linhas_nulas = dados2[dados2['Ano'].isna()]\n",
    "\n",
    "# Método 2: Usando 'isnull()'\n",
    "linhas_nulas = dados2[dados2['Ano'].isnull()]\n",
    "\n",
    "print(linhas_nulas)"
   ]
  },
  {
   "cell_type": "markdown",
   "id": "fa90d56b",
   "metadata": {},
   "source": [
    "2. Outra maneira é simplesmente retornar as linhas que contém o valor '0' na coluna 'Títulos'. Vamos usar a mesma abordagem de criar uma máscara booleana usando uma condição de igualdade:"
   ]
  },
  {
   "cell_type": "code",
   "execution_count": null,
   "id": "4e0c5fd3",
   "metadata": {},
   "outputs": [],
   "source": [
    "# Filtrar as linhas com valor 0 na coluna 'Titulos'\n",
    "paises_sem_titulo = dados2[dados2['Titulos'] == 0]\n",
    "\n",
    "print(paises_sem_titulo[['País','Titulos']])"
   ]
  },
  {
   "cell_type": "code",
   "execution_count": null,
   "id": "3b7d9b7e",
   "metadata": {
    "scrolled": false
   },
   "outputs": [],
   "source": [
    "# Substituir valores ausentes na coluna 'Ano' pelo valor zero\n",
    "dados['Ano'] = dados['Ano'].fillna(0)\n",
    "\n",
    "print(dados)"
   ]
  },
  {
   "cell_type": "markdown",
   "id": "b2c7e098",
   "metadata": {},
   "source": [
    "### Filtrar os países que ganharam ao menos um título. ###\n",
    "\n",
    "Para filtrar os países que ganharam ao menos um título (ou seja, têm o valor da coluna \"Titulos\" maior que 0) no DataFrame, você podemos empregar a função query() do Pandas ou a indexação booleana."
   ]
  },
  {
   "cell_type": "code",
   "execution_count": null,
   "id": "490d4f4b",
   "metadata": {},
   "outputs": [],
   "source": [
    "# 1. Filtro com query()\n",
    "\n",
    "# Filtrar os países que ganharam mais de um título usando query()\n",
    "paises_com_mais_de_um_titulo = dados.query('Titulos > 0')\n",
    "\n",
    "print(paises_com_mais_de_um_titulo)"
   ]
  },
  {
   "cell_type": "code",
   "execution_count": null,
   "id": "733eae0a",
   "metadata": {},
   "outputs": [],
   "source": [
    "# 2. Indexação booleana\n",
    "\n",
    "# Filtrar os países que ganharam mais de um título usando indexação booleana\n",
    "paises_com_mais_de_um_titulo = dados[dados['Titulos'] > 0]\n",
    "\n",
    "print(paises_com_mais_de_um_titulo)"
   ]
  },
  {
   "cell_type": "markdown",
   "id": "514db41a",
   "metadata": {},
   "source": [
    "## Como agrupar os países por Continente? ##\n",
    "\n",
    "Para agrupar os países por continente, vamos usar o df **dados2** que possui a coluna Continente, que representa o continente de cada país.\n",
    "Empregaremos o método groupby() do Pandas. "
   ]
  },
  {
   "cell_type": "markdown",
   "id": "c05bb450",
   "metadata": {},
   "source": [
    "### Contar países por Continente ###\n",
    "\n",
    "Para contar quantos países de cada continente estão no DataFrame, podemos usar o método value_counts() na coluna \"Continente\". Isso contará o número de ocorrências de cada valor na coluna e fornecerá a contagem de países para cada continente. \n",
    "\n",
    "O resultado será uma Série que mostra a contagem solicitada."
   ]
  },
  {
   "cell_type": "code",
   "execution_count": null,
   "id": "a45f3ca5",
   "metadata": {
    "scrolled": true
   },
   "outputs": [],
   "source": [
    "# Contar quantos países de cada continente estão no DataFrame\n",
    "contagem_por_continente = dados2['Continente'].value_counts()\n",
    "\n",
    "print(contagem_por_continente)\n",
    "print()\n",
    "\n",
    "# Converter a Série em um DataFrame e renomear as colunas: método reset_index()\n",
    "contagem_por_continente_df = contagem_por_continente.reset_index()\n",
    "contagem_por_continente_df.columns = ['Continente', 'Contagem']\n",
    "\n",
    "print(contagem_por_continente_df)"
   ]
  },
  {
   "cell_type": "markdown",
   "id": "1ae3c39e",
   "metadata": {},
   "source": [
    "### Soma de títulos por continente ###\n",
    "\n",
    "Usaremos o método groupby() para agrupar os países por continente e calcular a soma total de títulos por continente. O resultado será um objeto Series que mostra a soma de títulos para cada continente."
   ]
  },
  {
   "cell_type": "code",
   "execution_count": null,
   "id": "3fc7f8e1",
   "metadata": {},
   "outputs": [],
   "source": [
    "# Agrupar os países por continente e calcular a soma de títulos por continente\n",
    "grupo_continente = dados2.groupby('Continente')['Titulos'].sum()\n",
    "\n",
    "print(grupo_continente)"
   ]
  },
  {
   "cell_type": "markdown",
   "id": "4a498ebe",
   "metadata": {},
   "source": [
    "### TODO: Estatísticas Descritivas: ###\n",
    "\n",
    "Calcular a média, mediana, desvio padrão, máximo e mínimo para as colunas numéricas."
   ]
  }
 ],
 "metadata": {
  "kernelspec": {
   "display_name": "Python 3 (ipykernel)",
   "language": "python",
   "name": "python3"
  },
  "language_info": {
   "codemirror_mode": {
    "name": "ipython",
    "version": 3
   },
   "file_extension": ".py",
   "mimetype": "text/x-python",
   "name": "python",
   "nbconvert_exporter": "python",
   "pygments_lexer": "ipython3",
   "version": "3.11.4"
  }
 },
 "nbformat": 4,
 "nbformat_minor": 5
}
