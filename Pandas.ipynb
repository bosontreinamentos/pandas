{
 "cells": [
  {
   "cell_type": "markdown",
   "metadata": {},
   "source": [
    "# Pandas"
   ]
  },
  {
   "cell_type": "markdown",
   "metadata": {},
   "source": [
    "## O que é o Pandas\n",
    "\n",
    "Pandas é uma biblioteca de software livre para a linguagem Python, empregada em análise e manipulação de dados.\n",
    "\n",
    "Traz estruturas de dados especializadas para a realização de operações com tabelas numéricas e séries temporais.\n",
    "\n",
    "O nome pandas vem da expressão \"panel data\", termo da ciência da econometria que se refere a conjuntos de dados tais como observações em múltiplos períodos de tempo.\n",
    "\n",
    "As principais funcionalidades do pandas incluem:\n",
    "* Manipular dados com indexação personalizada\n",
    "* Ler e escrever dados em diversos tipos de estruturas de dados e formatos de arquivos, como CSV, Excel, JSON, SQL, etc.\n",
    "* Manipular dados ausentes e efetuar limpeza de dados\n",
    "* Dividir, fatiar e criar subconjuntos a partir de conjutos de dados extensos\n",
    "* Unir e fundir conjuntos de dados\n",
    "* Aplicar funções de séries temporais\n",
    "* Agrupar e filtrar dados\n",
    "\n",
    "Entre outras."
   ]
  },
  {
   "cell_type": "markdown",
   "metadata": {},
   "source": [
    "## Estruturas de Dados no Pandas\n",
    "\n",
    "Existem duas estruturas de dados principais com as quais podemos trabalhar ao usar a biblioteca Pandas: Series e DataFrames.\n",
    "\n",
    "* **Series** (\"série\"): é uma estrutura de dados unidimensional, que pode representar, por exemplo, uma coluna de uma tabela, um array ou uma colune de um dataframe.\n",
    "\n",
    "* **Dataframe**: Principal estrutura de dados no Pandas. Trata-se de uma tabela bidimensional de dados na qual as linhas tipicamente representam casos (como registros em um banco de dados relacional), e as colunas representam variáveis.\n"
   ]
  },
  {
   "cell_type": "code",
   "execution_count": null,
   "metadata": {},
   "outputs": [],
   "source": [
    "# Importar o módulo Pandas\n",
    "\n",
    "import pandas as pd"
   ]
  },
  {
   "cell_type": "markdown",
   "metadata": {},
   "source": [
    "# Objeto Series\n",
    "\n",
    "Array de uma dimensão, nomeado, que pode armazenar qualquer tipo de dado.\n",
    "É, basicamente, um \"array melhorado\", com suporte a indexação personalizada, incluindo índices de strings.\n",
    "Também tolera dados ausentes, e possui a capacidade de ignorar dados ausentes em operações sobre os dados.\n",
    "\n",
    "Por padrão, os índices em um objeto Series são numerados sequencialmente a partir de 0."
   ]
  },
  {
   "cell_type": "markdown",
   "metadata": {},
   "source": [
    "## Criar objeto Series\n",
    "\n",
    "Sintaxe:\n",
    "\n",
    "pd.Series([lista_valores], index=[lista_indices], name='Nome para o objeto')\n",
    "\n",
    "Os argumentos index e name são opcionais.\n",
    "A lista de valores pode ser, na verdade, uma lista, uma tupla, um array, um dicionário ou até mesmo outro objeto Series.\n",
    "\n",
    "Os dados de um Series são exibidos em duas colunas, com os índices alinhados à esquerda na coluna da esquerda, e os dados alinhados à direita na coluna da direita. Logo após mostrar os elementos, é exibido o tipo de dado (dtype) do array de origem."
   ]
  },
  {
   "cell_type": "code",
   "execution_count": 106,
   "metadata": {
    "scrolled": true
   },
   "outputs": [
    {
     "name": "stdout",
     "output_type": "stream",
     "text": [
      "['Morango', 'Maçã', 'Uva', 'Pêssego', 'Carambola', 'Licha']\n",
      "0      Morango\n",
      "1         Maçã\n",
      "2          Uva\n",
      "3      Pêssego\n",
      "4    Carambola\n",
      "5        Licha\n",
      "Name: Frutas, dtype: object\n",
      "<class 'pandas.core.series.Series'>\n",
      "Número de frutas:  6\n",
      "0      MORANGO\n",
      "1         MAÇÃ\n",
      "2          UVA\n",
      "3      PÊSSEGO\n",
      "4    CARAMBOLA\n",
      "5        LICHA\n",
      "Name: Frutas, dtype: object\n",
      "4.003 8.006\n",
      "20.18 40.36\n",
      "39.95 79.9\n",
      "83.798 167.596\n",
      "131.293 262.586\n",
      "222.0 444.0\n",
      "294.0 588.0\n"
     ]
    }
   ],
   "source": [
    "import pandas as pd\n",
    "\n",
    "lista = ['Morango','Maçã','Uva','Pêssego','Carambola','Licha']\n",
    "s1 = pd.Series(lista, name='Frutas')\n",
    "\n",
    "# Usando índices personalizados:\n",
    "#indices = ['Mo','Ma','Uv','Pe','Ca','Li']\n",
    "#s1 = pd.Series(lista, index=indices, name='Frutas')\n",
    "\n",
    "print(lista)\n",
    "print(s1)\n",
    "\n",
    "# Verificar tipo do objeto criado:\n",
    "print(type(s1))\n",
    "\n",
    "# Acessar um elemento específico da série: índice dentro de colchetes\n",
    "s1[2]\n",
    "\n",
    "# Contar o número de elementos de uma série: o método count()\n",
    "print('Número de frutas: ', s1.count())\n",
    "\n",
    "# Retornar os elementos string convertidos para maiúsculas: métodos str\n",
    "print(s1.str.upper())\n",
    "\n",
    "\n",
    "# Criar um série (Series) com 10 elementos do tipo float e de mesmo valor\n",
    "pd.Series(32.65, range(10))\n",
    "\n",
    "# Estatística descritiva com series: média aritmética, valor máximo, valor mínimo, desvio-padrão\n",
    "# Series de exmplo: massas atômicas dos gases nobres\n",
    "gasesNobresA = pd.Series([4.003,20.180,39.95,83.798,131.293,222,294])\n",
    "\n",
    "#gasesNobresA.mean()\n",
    "#gasesNobresA.max()\n",
    "#gasesNobresA.min()\n",
    "#gasesNobresA.std()\n",
    "\n",
    "# Mostrar todos os dados estatísticos de uma vez:\n",
    "#gasesNobresA.describe()\n",
    "\n",
    "# Retornar uma suposta massa molecular (combinação de dois átomos do elemento).\n",
    "# Lembreando que gases nobres são monoatômicos, ou seja, não formam moléculas.\n",
    "for item in gasesNobresA:\n",
    "    print(item, item * 2)"
   ]
  },
  {
   "cell_type": "markdown",
   "metadata": {},
   "source": [
    "# DataFrames"
   ]
  },
  {
   "cell_type": "code",
   "execution_count": null,
   "metadata": {},
   "outputs": [],
   "source": [
    "import pandas as pd"
   ]
  },
  {
   "cell_type": "markdown",
   "metadata": {},
   "source": [
    "## Ler arquivos CSV"
   ]
  },
  {
   "cell_type": "code",
   "execution_count": null,
   "metadata": {
    "scrolled": false
   },
   "outputs": [],
   "source": [
    "df1 = pd.read_csv(r'C:\\Arquivos\\dados.csv')  # importante usar o r no inicio, para correta interpretação do \\\n",
    "# Obs.: The leading r denotes a python raw string. It treats \\ as a literal character. No need to escape it.\n",
    "print(df1)\n",
    "print(df1.shape) # propriedade shape informa o número de linhas e colunas no dataframe\n",
    "print(df1.columns) # columns informa nomes das colunas (variáveis) e tipo do dataframe\n",
    "print(df1.dtypes) # dtypes informa o tipo de cada coluna do dataframe"
   ]
  },
  {
   "cell_type": "markdown",
   "metadata": {},
   "source": [
    "Obs.: *The leading r denotes a python raw string. It treats \\ as a literal character. No need to escape it.*"
   ]
  },
  {
   "cell_type": "code",
   "execution_count": null,
   "metadata": {},
   "outputs": [],
   "source": [
    "# Ver apenas as colunas campeao e pontos\n",
    "print(df1.loc[:,[\"campeao\",\"pontos\"]])\n",
    "\n",
    "# Ver número máximo de pontos (valor mais alto na coluna pontos)\n",
    "print(df1.loc[:,\"pontos\"].max())\n",
    "# Ou simplesmente:\n",
    "print(df1.pontos.max())\n"
   ]
  },
  {
   "cell_type": "markdown",
   "metadata": {},
   "source": [
    "## Ler Arquivos do Excel"
   ]
  },
  {
   "cell_type": "code",
   "execution_count": null,
   "metadata": {},
   "outputs": [],
   "source": [
    "# Instalar biblioteca para acesso a dados do Excel\n",
    "!pip3 install xlrd"
   ]
  },
  {
   "cell_type": "code",
   "execution_count": null,
   "metadata": {},
   "outputs": [],
   "source": [
    "# Ler arquivo do Excel em um Dataframe\n",
    "import pandas as pd\n",
    "df1 = pd.read_excel(r'C:\\Arquivos\\elementosDatasetXLSX.xlsx')\n",
    "print(df1)"
   ]
  },
  {
   "cell_type": "code",
   "execution_count": null,
   "metadata": {},
   "outputs": [],
   "source": [
    "# teste com dataset de elementos químicos\n",
    "# Ler arquivo do Excel em um Dataframe\n",
    "import pandas as pd\n",
    "\n",
    "#dfq = pd.read_excel(r'C:\\Arquivos\\elementosDatasetXLSX.xlsx')\n",
    "#print(dfq)\n",
    "\n",
    "# Opcionalmente, podemos trabalhar com arquivos .csv:\n",
    "dfq = pd.read_csv(r'C:\\Arquivos\\elementosDatasetCSV.csv') # engine='python' para evitar erro de utf-8\n",
    "print(dfq)"
   ]
  },
  {
   "cell_type": "code",
   "execution_count": null,
   "metadata": {},
   "outputs": [],
   "source": [
    "# Visualizar as 5 primeiras linhas de um dataframe de nome df com o método head():\n",
    "#dfq.head()\n",
    "\n",
    "# Para ver o dataframe completo, basta executar:\n",
    "#dfq\n",
    "\n",
    "# Para ver o tipo do objeto criado: função type()\n",
    "#type(dfq)\n",
    "\n",
    "# Podemos obter informações sobre os dados em si, conferindo os nomes das colunas e seus respectivos tipos de dados com:\n",
    "#dfq.columns\n",
    "# que permite listar as colunas presentes no DataFrame de Elementos Químicos\n",
    "\n",
    "# Verificar o nome da colúna de número 3 (4ª coluna, numeradas a partir de zero)\n",
    "#dfq.columns[3]\n",
    "\n",
    "# Verificar os nomes da colúnas de números 3, 2 e 5\n",
    "#dfq.columns[[3,2,5]]\n",
    "\n",
    "# Ver tamanho do DataFrame\n",
    "#dfq.shape\n",
    "\n"
   ]
  },
  {
   "cell_type": "markdown",
   "metadata": {},
   "source": [
    "## Divisão de DataFrames\n",
    "\n",
    "Métodos .loc() e .iloc()"
   ]
  },
  {
   "cell_type": "code",
   "execution_count": null,
   "metadata": {},
   "outputs": [],
   "source": [
    "##############################################################################\n",
    "#    É possível fatiar o dataframe e ver partes específicas dos dados, como  #\n",
    "#    por exemplo colunas em particular, com os métodos .loc() e .iloc()      #\n",
    "##############################################################################\n",
    "\n",
    "# Método .loc()\n",
    "# Recebe dois parâmetros separados por uma vírgula: nomes de linha e coluna respectivamente\n",
    "dfq.loc[:,'Coluna'] # Todos os dados da Coluna\n",
    "dfq.loc[:,['Coluna1','Coluna2','Coluna3']] # Todos os dados das colunas 1, 2 e 3\n",
    "dfq.loc[:9,['Coluna1','Coluna2','Coluna3']] # As 10 primeiras linhas das colunas 1, 2 e 3\n",
    "dfq.loc[10:20] # Faixa de linhas para todas as colunas\n",
    "\n",
    "\n",
    "# Método iloc()\n",
    "# Usa índices numéricos para indicar linhas e colunas, em vez de nomes\n",
    "dfq.iloc[:,0] # Todos os dados da primeira coluna (índice numérico)\n",
    "dfq.iloc[:4]\n",
    "dfq.iloc[:4,1:5] # 5 primeiras linhas das colunas de 1 a 5 - 1 (5 não é exibida)\n",
    "#dfq.iloc[[-5:]] # Os últimos 5 elementos no dataset\n",
    "dfq.iloc[[2,5,9],0] # Apenas linhas selecionadas para a primeira coluna (passando uma lista de linhas)\n",
    "\n",
    "# Selecionar a primeira linha inteira de um df:\n",
    "dfq.iloc[0] # foi especificada somente a linha\n",
    "\n",
    "# Ver os tipos de dados de cada coluna do dataframe: propriedade dtypes\n",
    "dfq.dtypes\n",
    "\n",
    "# Listar valores sem repetição em uma coluna: método unique()\n",
    "dfq.NomeColuna.unique()\n"
   ]
  },
  {
   "cell_type": "code",
   "execution_count": null,
   "metadata": {},
   "outputs": [],
   "source": [
    "# Listar número atômico, símbolo e massas atômica de cada elemento\n",
    "\n",
    "dfq.loc[:,[\"Z\",\"Simbolo\",\"Massa Atômica\"]]"
   ]
  },
  {
   "cell_type": "markdown",
   "metadata": {},
   "source": [
    "## Alterar índices - NÃO ESTÁ FUNCIONANDO AINDA\n",
    "\n",
    "Podemos alterar a coluna que será usada como índice em um dataframe usando o método set_index(). Por exemplo, para tornar a coluna Simbolo o índice do DataFrame dfq, fazemos o seguinte:"
   ]
  },
  {
   "cell_type": "code",
   "execution_count": null,
   "metadata": {},
   "outputs": [],
   "source": [
    "dfq.set_index('Simbolo')\n",
    "\n",
    "dfq.loc[:,'Elemento'] # Todos os dados da coluna Elemento, indexados pelo símbolo"
   ]
  },
  {
   "cell_type": "markdown",
   "metadata": {},
   "source": [
    "## Condições\n",
    "\n",
    "Podemos verificar se os registros possuem um valor específico em uma coluna usando o operador de igualdade ==. Por exemplo, podemos consultar quais elementos químicos possuem exatamente 2 isótopos estáveis com a declaração a seguir, que retorna valores True ou False baseados nos valores encontrados:"
   ]
  },
  {
   "cell_type": "code",
   "execution_count": null,
   "metadata": {
    "scrolled": true
   },
   "outputs": [],
   "source": [
    "print(dfq.NumIsotoposEstaveis == 2)\n",
    "\n",
    "# E então podemos consultar quais são os elementos específicos usando essa condição combinada com o método loc():\n",
    "dfq.loc[dfq.NumIsotoposEstaveis == 2,['Elemento','NumIsotoposEstaveis']]"
   ]
  },
  {
   "cell_type": "code",
   "execution_count": null,
   "metadata": {},
   "outputs": [],
   "source": [
    "# podemos combinar expressões condicionais, por exemplo trazendo apenas os elementos que tenham 2 isótopos\n",
    "# estáveis e que sejam gases:\n",
    "dfq.loc[(dfq.NumIsotoposEstaveis == 2) & (dfq.EstadoFisico == 'Gás'),'Simbolo']"
   ]
  },
  {
   "cell_type": "code",
   "execution_count": null,
   "metadata": {},
   "outputs": [],
   "source": [
    "# Elementos que são sólidos e cuja densidade é maior do que 10 g/cm3\n",
    "import pandas as pd\n",
    "\n",
    "dfq = pd.read_excel(r'C:\\Arquivos\\elementosDatasetXLSX.xlsx')\n",
    "\n",
    "dfq.loc[(dfq.EstadoFisico == 'Sólido') & (dfq.Densidade >= 10),['Simbolo','Densidade']]"
   ]
  },
  {
   "cell_type": "markdown",
   "metadata": {},
   "source": [
    "## Método isin()\n",
    "\n",
    "O método seletor condicional isin() permite selecionar dados cujo valor esteva dentro de uma lista de valores passada. No exemplo a seguir vamos usar o seletor isin para retornar todos os dados dos elementos Cobre, Alumínio, Ouro e Prata (sando os símbolos respectivos)"
   ]
  },
  {
   "cell_type": "code",
   "execution_count": null,
   "metadata": {},
   "outputs": [],
   "source": [
    "import pandas as pd\n",
    "\n",
    "dfq = pd.read_excel(r'C:\\Arquivos\\elementosDatasetXLSX.xlsx')\n",
    "\n",
    "\n",
    "# Retornar todos os dados dos elementos Cobre, Alumínio, Ouro e Prata (sando os símbolos respectivos)\n",
    "\n",
    "dfq.loc[dfq.Simbolo.isin(['Cu','Al','Ag','Au','U'])]\n",
    "\n",
    "# Ou ainda apenas alguas colunas determinadas. Descomente a linha a seguir para testar:\n",
    "dfq.loc[dfq.Simbolo.isin(['Cu','Al','Ag','Au','U']),['Elemento','Z','Simbolo','Massa Atômica','Densidade']]"
   ]
  },
  {
   "cell_type": "markdown",
   "metadata": {},
   "source": [
    "## Métodos isnull() e notnull()\n",
    "\n",
    "Permitem verificar se um valor está vazio (nulo / NaN) ou não.\n",
    "\n",
    "No exemplo a seguir vamos verificar quais elementos NÃO tem valor do ponto de fusão determinado. Os valores inexistentes são retornados como NaN (Not a Number)."
   ]
  },
  {
   "cell_type": "code",
   "execution_count": null,
   "metadata": {
    "scrolled": true
   },
   "outputs": [],
   "source": [
    "# Elementos que não possuem densidade determinada\n",
    "import pandas as pd\n",
    "\n",
    "dfq = pd.read_excel(r'C:\\Arquivos\\elementosDatasetXLSX.xlsx')\n",
    "\n",
    "dfq.loc[dfq.PontoFusaoK.isnull(),['Simbolo','PontoFusaoK']]"
   ]
  },
  {
   "cell_type": "markdown",
   "metadata": {},
   "source": [
    "## Salvar DataFrame em arquivo CSV\n",
    "\n",
    "Sintaxe:\n",
    "\n",
    "df.to_csv('nome_arquivo_CSV')"
   ]
  },
  {
   "cell_type": "code",
   "execution_count": null,
   "metadata": {},
   "outputs": [],
   "source": []
  },
  {
   "cell_type": "code",
   "execution_count": null,
   "metadata": {},
   "outputs": [],
   "source": [
    "# ESSE TEM ERRO, PESQUISAR\n",
    "\n",
    "# Muitos elementos possuem mais de um número de massa (A), dependendo da quantidade de isótopos existentes.\n",
    "# Vamos retornar os elementos cujo número de massa é igual a 14\n",
    "\n",
    "import pandas as pd\n",
    "\n",
    "dfq = pd.read_excel(r'C:\\Arquivos\\elementosDatasetXLSX.xlsx')\n",
    "\n",
    "# Transformar string retornada na coluna A em uma lista de valores:\n",
    "dfq['A'] = dfq['A'].apply(lambda x: str(x).split(','))\n",
    "dfq['A'] = dfq['A'].apply(lambda x: str(x).replace('\"', \"\"))\n",
    "\n",
    "#dfq['A'] = dfq['A'].apply(list(map(int, dfq['A'])))\n",
    "\n",
    "\n",
    "print(dfq['A'])\n",
    "\n",
    "#dfq.loc[dfq.A.isin(['9']),['Elemento','Z','Simbolo','Massa Atômica']]\n",
    "\n",
    "#dfq.loc[(dfq.A == '9'),['Elemento','Z','Simbolo','Massa Atômica']]\n",
    "\n",
    "\n"
   ]
  }
 ],
 "metadata": {
  "kernelspec": {
   "display_name": "Python 3",
   "language": "python",
   "name": "python3"
  },
  "language_info": {
   "codemirror_mode": {
    "name": "ipython",
    "version": 3
   },
   "file_extension": ".py",
   "mimetype": "text/x-python",
   "name": "python",
   "nbconvert_exporter": "python",
   "pygments_lexer": "ipython3",
   "version": "3.7.3"
  }
 },
 "nbformat": 4,
 "nbformat_minor": 4
}
