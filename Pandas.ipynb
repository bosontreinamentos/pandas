{
 "cells": [
  {
   "cell_type": "markdown",
   "metadata": {},
   "source": [
    "# Pandas"
   ]
  },
  {
   "cell_type": "markdown",
   "metadata": {},
   "source": [
    "## Ler Arquivos CSV"
   ]
  },
  {
   "cell_type": "code",
   "execution_count": 1,
   "metadata": {},
   "outputs": [],
   "source": [
    "import pandas as pd"
   ]
  },
  {
   "cell_type": "code",
   "execution_count": 6,
   "metadata": {
    "scrolled": false
   },
   "outputs": [
    {
     "name": "stdout",
     "output_type": "stream",
     "text": [
      "    ano campeao  pontos\n",
      "0  2000       A      76\n",
      "1  2001       B      77\n",
      "2  2002       D      79\n",
      "3  2003       C      69\n",
      "4  2004       B      71\n",
      "5  2005       C      72\n",
      "(6, 3)\n",
      "Index(['ano', 'campeao', 'pontos'], dtype='object')\n",
      "ano         int64\n",
      "campeao    object\n",
      "pontos      int64\n",
      "dtype: object\n"
     ]
    }
   ],
   "source": [
    "df1 = pd.read_csv(r'C:\\Arquivos\\testePandas.csv')  # importante usar o r no inicio, para correta interpretação do \\\n",
    "print(df1)\n",
    "print(df1.shape) # propriedade shape informa o número de linhas e colunas no dataframe\n",
    "print(df1.columns) # columns informa nomes das colunas (variáveis) e tipo do dataframe\n",
    "print(df1.dtypes) # dtypes informa o tipo de cada coluna do dataframe"
   ]
  },
  {
   "cell_type": "markdown",
   "metadata": {},
   "source": [
    "Obs.: *The leading r denotes a python raw string. It treats \\ as a literal character. No need to escape it.*"
   ]
  },
  {
   "cell_type": "code",
   "execution_count": 18,
   "metadata": {},
   "outputs": [
    {
     "name": "stdout",
     "output_type": "stream",
     "text": [
      "  campeao  pontos\n",
      "0       A      76\n",
      "1       B      77\n",
      "2       D      79\n",
      "3       C      69\n",
      "4       B      71\n",
      "5       C      72\n",
      "79\n",
      "79\n"
     ]
    },
    {
     "ename": "AttributeError",
     "evalue": "'list' object has no attribute 'max'",
     "output_type": "error",
     "traceback": [
      "\u001b[1;31m---------------------------------------------------------------------------\u001b[0m",
      "\u001b[1;31mAttributeError\u001b[0m                            Traceback (most recent call last)",
      "\u001b[1;32m<ipython-input-18-5b5cb1fa60d9>\u001b[0m in \u001b[0;36m<module>\u001b[1;34m\u001b[0m\n\u001b[0;32m      7\u001b[0m \u001b[0mprint\u001b[0m\u001b[1;33m(\u001b[0m\u001b[0mdf1\u001b[0m\u001b[1;33m.\u001b[0m\u001b[0mpontos\u001b[0m\u001b[1;33m.\u001b[0m\u001b[0mmax\u001b[0m\u001b[1;33m(\u001b[0m\u001b[1;33m)\u001b[0m\u001b[1;33m)\u001b[0m\u001b[1;33m\u001b[0m\u001b[1;33m\u001b[0m\u001b[0m\n\u001b[0;32m      8\u001b[0m \u001b[1;33m\u001b[0m\u001b[0m\n\u001b[1;32m----> 9\u001b[1;33m \u001b[0mprint\u001b[0m\u001b[1;33m(\u001b[0m\u001b[0mdf1\u001b[0m\u001b[1;33m.\u001b[0m\u001b[0mloc\u001b[0m\u001b[1;33m[\u001b[0m\u001b[1;33m:\u001b[0m\u001b[1;33m,\u001b[0m\u001b[1;33m[\u001b[0m\u001b[1;34m\"campeao\"\u001b[0m\u001b[1;33m]\u001b[0m\u001b[1;33m,\u001b[0m\u001b[1;33m[\u001b[0m\u001b[1;34m\"pontos\"\u001b[0m\u001b[1;33m]\u001b[0m\u001b[1;33m.\u001b[0m\u001b[0mmax\u001b[0m\u001b[1;33m(\u001b[0m\u001b[1;33m)\u001b[0m\u001b[1;33m]\u001b[0m\u001b[1;33m)\u001b[0m\u001b[1;33m\u001b[0m\u001b[1;33m\u001b[0m\u001b[0m\n\u001b[0m",
      "\u001b[1;31mAttributeError\u001b[0m: 'list' object has no attribute 'max'"
     ]
    }
   ],
   "source": [
    "# Ver apenas as colunas campeao e pontos\n",
    "print(df1.loc[:,[\"campeao\",\"pontos\"]])\n",
    "\n",
    "# Ver número máximo de pontos (valor mais alto na coluna pontos)\n",
    "print(df1.loc[:,\"pontos\"].max())\n",
    "# Ou simplesmente:\n",
    "print(df1.pontos.max())\n"
   ]
  },
  {
   "cell_type": "markdown",
   "metadata": {},
   "source": [
    "## Ler Arquivos do Excel"
   ]
  },
  {
   "cell_type": "code",
   "execution_count": 11,
   "metadata": {},
   "outputs": [
    {
     "name": "stdout",
     "output_type": "stream",
     "text": [
      "Requirement already satisfied: xlrd in c:\\programdata\\anaconda3\\lib\\site-packages (1.2.0)\n"
     ]
    }
   ],
   "source": [
    "# Instalar biblioteca para acesso a dados do Excel\n",
    "!pip3 install xlrd"
   ]
  },
  {
   "cell_type": "code",
   "execution_count": 17,
   "metadata": {},
   "outputs": [
    {
     "name": "stdout",
     "output_type": "stream",
     "text": [
      "    Ano Campeão  Pontos\n",
      "0  2000       A      73\n",
      "1  2001       B      77\n",
      "2  2002       D      72\n",
      "3  2003       C      76\n",
      "4  2004       A      80\n",
      "5  2005       D      77\n",
      "6  2006       A      75\n",
      "7  2007       B      78\n",
      "8  2008       B      77\n",
      "9  2009       C      73\n"
     ]
    }
   ],
   "source": [
    "# Ler arquivo do Excel em um Dataframe\n",
    "import pandas as pd\n",
    "df1 = pd.read_excel(r'C:\\Arquivos\\testePandas.xlsx')\n",
    "print(df1)"
   ]
  },
  {
   "cell_type": "markdown",
   "metadata": {},
   "source": [
    "Criar um objeto Series"
   ]
  },
  {
   "cell_type": "code",
   "execution_count": 18,
   "metadata": {},
   "outputs": [
    {
     "name": "stdout",
     "output_type": "stream",
     "text": [
      "['Morango', 'Maçã', 'Uva', 'Pêssego', 'Carambola']\n",
      "0      Morango\n",
      "1         Maçã\n",
      "2          Uva\n",
      "3      Pêssego\n",
      "4    Carambola\n",
      "dtype: object\n"
     ]
    }
   ],
   "source": [
    "import pandas as pd\n",
    "\n",
    "lista = ['Morango','Maçã','Uva','Pêssego','Carambola']\n",
    "s1 = pd.Series(lista)\n",
    "\n",
    "print(lista)\n",
    "print(s1)"
   ]
  },
  {
   "cell_type": "markdown",
   "metadata": {},
   "source": [
    "## Estruturas de Dados no Pandas\n",
    "\n",
    "A principal estrutura de dados no Pandas é o Data Frame. Trata-se de uma tabela bidimensional de dados na qual as linhas tipicamente representam casos (como registros em um banco de dados relacional), e as colunas representam variáveis.\n",
    "\n",
    "No pandas também existe a estrutura de dados unidimensional chamada de Series (série), que pode representar, por exemplo, uma coluna de um dataframe.\n"
   ]
  },
  {
   "cell_type": "code",
   "execution_count": null,
   "metadata": {},
   "outputs": [],
   "source": [
    "# Visualizar as 5 primeiras linhas de um dataframe de nome df com o método head():\n",
    "df.head()\n",
    "\n",
    "# Para ver o dataframe completo, basta executar:\n",
    "df\n",
    "\n",
    "# Para ver o tipo do objeto criado: função type()\n",
    "type(df)\n",
    "\n",
    "# Podemos obter informações sobre os dados em si, conferindo os nomes das colunas e seus respectivos tipos de dados com:\n",
    "df.columns\n",
    "\n",
    "##############################################################################\n",
    "#    É possível fatiar o dataframe e ver partes específicas dos dados, como  #\n",
    "#    por exemplo colunas em particular, com os métodos .loc() e .iloc()      #\n",
    "##############################################################################\n",
    "\n",
    "# Método .loc()\n",
    "# Recebe dois parâmetros separados por uma vírgula, nomes de linha e coluna respectivamente\n",
    "df.loc[:,\"Coluna\"] # Todos os dados da Coluna\n",
    "df.loc[:,[\"Coluna1\",\"Coluna2\",\"Coluna3\"]] # Todos os dados das colunas 1, 2 e 3\n",
    "df.loc[:9,[\"Coluna1\",\"Coluna2\",\"Coluna3\"]] # As 10 primeiras linhas das colunas 1, 2 e 3\n",
    "df.loc[10:20] # Faixa de linhas para todas as colunas\n",
    "\n",
    "# Método iloc()\n",
    "# Usa índices numéricos para indicar linhas e colunas, em vez de nomes\n",
    "df.iloc[:4]\n",
    "df.iloc[:4,1:5] # 5 primeiras linhas das colunas de 1 a 5 - 1 (5 não é exibida)\n",
    "\n",
    "# Ver os tipos de dados de cada coluna do dataframe: propriedade dtypes\n",
    "df.dtypes\n",
    "\n",
    "# Listar valores sem repetição em uma coluna: método unique()\n",
    "df.NomeColuna.unique()\n"
   ]
  },
  {
   "cell_type": "code",
   "execution_count": 13,
   "metadata": {},
   "outputs": [
    {
     "name": "stdout",
     "output_type": "stream",
     "text": [
      "       Z    Elemento Simbolo      A  Massa Atômica AnoDescoberta  \\\n",
      "0      1  Hidrogênio       H  1,2,3        1008.00          1766   \n",
      "1      2       Hélio      He    3.4        4003.00          1895   \n",
      "2      3       Lítio      Li    6.7           6.94          1817   \n",
      "3      4     Berílio      Be      9        9012.00          1797   \n",
      "4      5        Boro       B  10.11          10.81          1808   \n",
      "..   ...         ...     ...    ...            ...           ...   \n",
      "113  114    Fleróvio      Fl    289         289.00          1999   \n",
      "114  115    Moscóvio      Mc    288         289.00          2010   \n",
      "115  116  Livermório      Lv    293         293.00          2000   \n",
      "116  117   Tenessine      Ts    292         294.00          2010   \n",
      "117  118   Oganesson      Og    294         294.00          2006   \n",
      "\n",
      "                                           Descobridor         CAS  \\\n",
      "0                                      Henry Cavendish    133-74-0   \n",
      "1                                   Sir William Ramsay   7440-59-7   \n",
      "2                               Johan August Arfvedson   7439-93-2   \n",
      "3                             Nicholas Louis Vauquelin   7440-41-7   \n",
      "4    \"Louis-Josef Gay-Lussac,Louis-Jacques Thénard,...   7440-42-8   \n",
      "..                                                 ...         ...   \n",
      "113                                    Yuri Oganessian  54085-16-4   \n",
      "114                                                NaN  54085-64-2   \n",
      "115                                                NaN  54100-71-9   \n",
      "116                                                NaN  87658-56-8   \n",
      "117                                                NaN  54144-19-3   \n",
      "\n",
      "    ChemSpider ID Densidade  ... PontoEbulicao Período  Grupo Bloco  \\\n",
      "0         4515072  0.000082  ...         20271       1      1     s   \n",
      "1           22423  0.000164  ...          4222       1     18     s   \n",
      "2         2293625     0.534  ...          1615       2      1     s   \n",
      "3         4573986      1.85  ...          2741       2      2     s   \n",
      "4         4575371      2.34  ...          4273       2     13     p   \n",
      "..            ...       ...  ...           ...     ...    ...   ...   \n",
      "113             -         -  ...             -       7     14     p   \n",
      "114             -         -  ...             -       7     15     p   \n",
      "115             -         -  ...             -       7     16     p   \n",
      "116             -         -  ...             -       7     17     p   \n",
      "117             -         -  ...             -       7     18     p   \n",
      "\n",
      "    EstadoFisico Raio Atômico (A) Eletronegatividade EstadosOxidação  \\\n",
      "0            Gás             1.10               2.20          \"1,-1\"   \n",
      "1            Gás            1.400                  -               -   \n",
      "2         Sólido             1.82               0.98               1   \n",
      "3         Sólido             1.53               1.57               2   \n",
      "4         Sólido             1.92               2.04               3   \n",
      "..           ...              ...                ...             ...   \n",
      "113       Sólido                -                  -               -   \n",
      "114       Sólido                -                  -               -   \n",
      "115       Sólido                -                  -               -   \n",
      "116       Sólido                -                  -               -   \n",
      "117       Sólido                -                  -               -   \n",
      "\n",
      "    NumIsotoposEstaveis  Energia_Ionização (eV)  \n",
      "0                     2                  13.598  \n",
      "1                     2                  24.587  \n",
      "2                     2                   5.392  \n",
      "3                     1                   9.323  \n",
      "4                     2                   8.298  \n",
      "..                  ...                     ...  \n",
      "113                   0                       -  \n",
      "114                   0                       -  \n",
      "115                   0                       -  \n",
      "116                   0                       -  \n",
      "117                   0                       -  \n",
      "\n",
      "[118 rows x 21 columns]\n"
     ]
    }
   ],
   "source": [
    "# teste com dataset de elementos químicos\n",
    "# Ler arquivo do Excel em um Dataframe\n",
    "import pandas as pd\n",
    "\n",
    "dfq = pd.read_excel(r'C:\\Arquivos\\testeElementos.xlsx')\n",
    "print(dfq)"
   ]
  },
  {
   "cell_type": "code",
   "execution_count": 6,
   "metadata": {},
   "outputs": [
    {
     "data": {
      "text/plain": [
       "Index(['Z', 'Elemento', 'Simbolo', 'A', 'Massa Atômica', 'AnoDescoberta',\n",
       "       'Descobridor', 'CAS', 'ChemSpider ID', 'Densidade', 'PontoFusao',\n",
       "       'PontoEbulicao', 'Período', 'Grupo', 'Bloco', 'EstadoFisico',\n",
       "       'Raio Atômico (A)', 'Eletronegatividade', 'EstadosOxidação',\n",
       "       'NumIsotoposEstaveis', 'Energia_Ionização (eV)'],\n",
       "      dtype='object')"
      ]
     },
     "execution_count": 6,
     "metadata": {},
     "output_type": "execute_result"
    }
   ],
   "source": [
    "# Listar as colunas presentes no DataFrame de Elementos Químicos\n",
    "\n",
    "dfq.columns"
   ]
  },
  {
   "cell_type": "code",
   "execution_count": 12,
   "metadata": {},
   "outputs": [
    {
     "data": {
      "text/html": [
       "<div>\n",
       "<style scoped>\n",
       "    .dataframe tbody tr th:only-of-type {\n",
       "        vertical-align: middle;\n",
       "    }\n",
       "\n",
       "    .dataframe tbody tr th {\n",
       "        vertical-align: top;\n",
       "    }\n",
       "\n",
       "    .dataframe thead th {\n",
       "        text-align: right;\n",
       "    }\n",
       "</style>\n",
       "<table border=\"1\" class=\"dataframe\">\n",
       "  <thead>\n",
       "    <tr style=\"text-align: right;\">\n",
       "      <th></th>\n",
       "      <th>Simbolo</th>\n",
       "      <th>A</th>\n",
       "      <th>Massa Atômica</th>\n",
       "    </tr>\n",
       "  </thead>\n",
       "  <tbody>\n",
       "    <tr>\n",
       "      <th>0</th>\n",
       "      <td>H</td>\n",
       "      <td>1,2,3</td>\n",
       "      <td>1008.00</td>\n",
       "    </tr>\n",
       "    <tr>\n",
       "      <th>1</th>\n",
       "      <td>He</td>\n",
       "      <td>3.4</td>\n",
       "      <td>4003.00</td>\n",
       "    </tr>\n",
       "    <tr>\n",
       "      <th>2</th>\n",
       "      <td>Li</td>\n",
       "      <td>6.7</td>\n",
       "      <td>6.94</td>\n",
       "    </tr>\n",
       "    <tr>\n",
       "      <th>3</th>\n",
       "      <td>Be</td>\n",
       "      <td>9</td>\n",
       "      <td>9012.00</td>\n",
       "    </tr>\n",
       "    <tr>\n",
       "      <th>4</th>\n",
       "      <td>B</td>\n",
       "      <td>10.11</td>\n",
       "      <td>10.81</td>\n",
       "    </tr>\n",
       "    <tr>\n",
       "      <th>...</th>\n",
       "      <td>...</td>\n",
       "      <td>...</td>\n",
       "      <td>...</td>\n",
       "    </tr>\n",
       "    <tr>\n",
       "      <th>113</th>\n",
       "      <td>Fl</td>\n",
       "      <td>289</td>\n",
       "      <td>289.00</td>\n",
       "    </tr>\n",
       "    <tr>\n",
       "      <th>114</th>\n",
       "      <td>Mc</td>\n",
       "      <td>288</td>\n",
       "      <td>289.00</td>\n",
       "    </tr>\n",
       "    <tr>\n",
       "      <th>115</th>\n",
       "      <td>Lv</td>\n",
       "      <td>293</td>\n",
       "      <td>293.00</td>\n",
       "    </tr>\n",
       "    <tr>\n",
       "      <th>116</th>\n",
       "      <td>Ts</td>\n",
       "      <td>292</td>\n",
       "      <td>294.00</td>\n",
       "    </tr>\n",
       "    <tr>\n",
       "      <th>117</th>\n",
       "      <td>Og</td>\n",
       "      <td>294</td>\n",
       "      <td>294.00</td>\n",
       "    </tr>\n",
       "  </tbody>\n",
       "</table>\n",
       "<p>118 rows × 3 columns</p>\n",
       "</div>"
      ],
      "text/plain": [
       "    Simbolo      A  Massa Atômica\n",
       "0         H  1,2,3        1008.00\n",
       "1        He    3.4        4003.00\n",
       "2        Li    6.7           6.94\n",
       "3        Be      9        9012.00\n",
       "4         B  10.11          10.81\n",
       "..      ...    ...            ...\n",
       "113      Fl    289         289.00\n",
       "114      Mc    288         289.00\n",
       "115      Lv    293         293.00\n",
       "116      Ts    292         294.00\n",
       "117      Og    294         294.00\n",
       "\n",
       "[118 rows x 3 columns]"
      ]
     },
     "execution_count": 12,
     "metadata": {},
     "output_type": "execute_result"
    }
   ],
   "source": [
    "# Listar símbolos e massas atômicas\n",
    "\n",
    "dfq.loc[:,[\"Simbolo\",\"A\",\"Massa Atômica\"]]"
   ]
  },
  {
   "cell_type": "code",
   "execution_count": null,
   "metadata": {},
   "outputs": [],
   "source": []
  }
 ],
 "metadata": {
  "kernelspec": {
   "display_name": "Python 3",
   "language": "python",
   "name": "python3"
  },
  "language_info": {
   "codemirror_mode": {
    "name": "ipython",
    "version": 3
   },
   "file_extension": ".py",
   "mimetype": "text/x-python",
   "name": "python",
   "nbconvert_exporter": "python",
   "pygments_lexer": "ipython3",
   "version": "3.8.5"
  }
 },
 "nbformat": 4,
 "nbformat_minor": 4
}
