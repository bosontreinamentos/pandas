{
 "cells": [
  {
   "cell_type": "markdown",
   "id": "08d19265",
   "metadata": {},
   "source": [
    "### Biblioteca Pandas"
   ]
  },
  {
   "cell_type": "code",
   "execution_count": null,
   "id": "1469caa6",
   "metadata": {},
   "outputs": [],
   "source": [
    "!pip install pandas"
   ]
  },
  {
   "cell_type": "code",
   "execution_count": null,
   "id": "9a7a8a71",
   "metadata": {},
   "outputs": [],
   "source": [
    "import pandas as pd"
   ]
  },
  {
   "cell_type": "markdown",
   "id": "c9373af4-aedd-4950-aa0a-ee6129e32057",
   "metadata": {},
   "source": [
    "Um DataFrame representa uma tabela de dados retangular e contém uma coleção ordenada de colunas, em que cada uma pode ter um tipo de valor diferente (numérico, string, booleano etc.).\n",
    "\n",
    "Trata-se de uma estrutura de dados bidimensional semelhante a uma tabela de banco de dados ou uma planilha do Excel.\n",
    "\n",
    "Os DataFrames são altamente versáteis e são frequentemente usados para representar conjuntos de dados completos.\n"
   ]
  },
  {
   "cell_type": "markdown",
   "id": "7db106ee-5dac-409e-aa98-a304075fc4f3",
   "metadata": {},
   "source": [
    "**Como criar um DataFrame**\n",
    "\n",
    "Vamos começar criando um DataFrame de exemplo a partir de um dicionário de dados:\n"
   ]
  },
  {
   "cell_type": "code",
   "execution_count": 3,
   "id": "dec9b643-9949-4937-8a3e-f722d9fd7584",
   "metadata": {},
   "outputs": [
    {
     "name": "stdout",
     "output_type": "stream",
     "text": [
      "      Nome  Idade          Cidade\n",
      "0    Fábio     45       São Paulo\n",
      "1      Ana     30  Rio de Janeiro\n",
      "2  Ricardo     22  Belo Horizonte\n",
      "3  Daniela     28          Recife\n"
     ]
    }
   ],
   "source": [
    "# Dicionário (dataset)\n",
    "dados = {\n",
    "    'Nome': ['Fábio', 'Ana', 'Ricardo', 'Daniela'],\n",
    "    'Idade': [45, 30, 22, 28],\n",
    "    'Cidade': ['São Paulo', 'Rio de Janeiro', 'Belo Horizonte', 'Recife']\n",
    "}\n",
    "\n",
    "# DataFrame criado a partir do dicionário\n",
    "df = pd.DataFrame(dados)\n",
    "print(df)\n"
   ]
  },
  {
   "cell_type": "markdown",
   "id": "73b85958-edb8-4d90-a20d-1324662efdbe",
   "metadata": {},
   "source": [
    "Outro exemplo: vamos criar mais um DataFrame a partir de outro dicionário que contém nomes de países, quantidade de títulos mundiais, e ano em que ganhou o primeiro título.\n"
   ]
  },
  {
   "cell_type": "code",
   "execution_count": 4,
   "id": "03a14118",
   "metadata": {},
   "outputs": [
    {
     "name": "stdout",
     "output_type": "stream",
     "text": [
      "         País     Ano  Titulos\n",
      "0      Brasil  1958.0        5\n",
      "1     Uruguai  1930.0        2\n",
      "2  Inglaterra  1966.0        1\n",
      "3     Espanha  2010.0        1\n",
      "4     Holanda     NaN        0\n",
      "5      Itália  1934.0        4\n",
      "6   Argentina  1978.0        3\n",
      "7    Alemanha  1954.0        4\n",
      "8      França  1998.0        2\n"
     ]
    }
   ],
   "source": [
    "dicionario={'País':['Brasil','Uruguai','Inglaterra','Espanha','Holanda','Itália','Argentina','Alemanha','França'],\n",
    "           'Ano':[1958,1930,1966,2010,None,1934,1978,1954,1998],\n",
    "           'Titulos':[5,2,1,1,0,4,3,4,2]\n",
    "           }\n",
    "\n",
    "dados = pd.DataFrame(dicionario)\n",
    "print(dados)\n"
   ]
  },
  {
   "cell_type": "markdown",
   "id": "45ea668d-23b5-406a-9722-ecdeb6343b4d",
   "metadata": {},
   "source": [
    "Note que na linha correspondente à Holanda a coluna Ano traz o valor NaN, que significa \"Not a Number\" (Não é um Número), indicando que este dado está ausente (a Holanda ainda não ganhou nenhuma copa, por isso o ano não existe!)"
   ]
  },
  {
   "cell_type": "markdown",
   "id": "02cd601d-37b6-41f1-b0d5-4a95bf108ec6",
   "metadata": {},
   "source": [
    "Se o conjunto de dados for muito grande e não quisermos exibi-lo inteiro na tela, podemos imprimir apenas as cinco primeiras ou as cinco últimas linhas com os métodos .head() e .tail(), respectivamentes:\n"
   ]
  },
  {
   "cell_type": "code",
   "execution_count": 5,
   "id": "d9ad8831",
   "metadata": {},
   "outputs": [
    {
     "name": "stdout",
     "output_type": "stream",
     "text": [
      "         País     Ano  Titulos\n",
      "0      Brasil  1958.0        5\n",
      "1     Uruguai  1930.0        2\n",
      "2  Inglaterra  1966.0        1\n",
      "3     Espanha  2010.0        1\n",
      "4     Holanda     NaN        0\n",
      "\n",
      "        País     Ano  Titulos\n",
      "4    Holanda     NaN        0\n",
      "5     Itália  1934.0        4\n",
      "6  Argentina  1978.0        3\n",
      "7   Alemanha  1954.0        4\n",
      "8     França  1998.0        2\n"
     ]
    }
   ],
   "source": [
    "# 5 primeiras linhas\n",
    "print(dados.head())\n",
    "print()\n",
    "# 5 últimas linhas\n",
    "print(dados.tail())\n"
   ]
  },
  {
   "cell_type": "markdown",
   "id": "c4c123f3-4e9a-443f-acca-031c80200dba",
   "metadata": {},
   "source": [
    "Podemos alterar a ordem das colunas passando como parâmetro ao método .DataFrame() uma lista de valores a serem usados como cabeçalho:\n"
   ]
  },
  {
   "cell_type": "code",
   "execution_count": 6,
   "id": "55c14b0c",
   "metadata": {},
   "outputs": [
    {
     "name": "stdout",
     "output_type": "stream",
     "text": [
      "   Titulos        País     Ano\n",
      "0        5      Brasil  1958.0\n",
      "1        2     Uruguai  1930.0\n",
      "2        1  Inglaterra  1966.0\n",
      "3        1     Espanha  2010.0\n",
      "4        0     Holanda     NaN\n",
      "5        4      Itália  1934.0\n",
      "6        3   Argentina  1978.0\n",
      "7        4    Alemanha  1954.0\n",
      "8        2      França  1998.0\n"
     ]
    }
   ],
   "source": [
    "# Alterar ordem das colunas:\n",
    "dados = pd.DataFrame(dados, columns=['Titulos','País','Ano'])\n",
    "print(dados)"
   ]
  },
  {
   "cell_type": "code",
   "execution_count": null,
   "id": "f8182139-9c47-4738-a05c-d31d4000b6f0",
   "metadata": {},
   "outputs": [],
   "source": [
    "Para ver apenas os nomes das colunas constituintes do df:"
   ]
  },
  {
   "cell_type": "code",
   "execution_count": 7,
   "id": "0368d150-c9b7-461b-a035-4cb761e654d5",
   "metadata": {},
   "outputs": [
    {
     "name": "stdout",
     "output_type": "stream",
     "text": [
      "Index(['Titulos', 'País', 'Ano'], dtype='object')\n"
     ]
    }
   ],
   "source": [
    "# Ver nomes das colunas\n",
    "print(dados.columns)"
   ]
  },
  {
   "cell_type": "markdown",
   "id": "e2f9c738-6540-471a-b501-665824818d11",
   "metadata": {},
   "source": [
    "Para imprimir colunas individuais (em vez do DataFrame completo) podemos passar o nome da coluna desejada como valor de índice (entre colchetes), ou então chamar a coluna pelo seu nome como uma propriedade (precedida de um ponto):"
   ]
  },
  {
   "cell_type": "code",
   "execution_count": 9,
   "id": "868eeead",
   "metadata": {
    "scrolled": true
   },
   "outputs": [
    {
     "name": "stdout",
     "output_type": "stream",
     "text": [
      "Países:\n",
      "0        Brasil\n",
      "1       Uruguai\n",
      "2    Inglaterra\n",
      "3       Espanha\n",
      "4       Holanda\n",
      "5        Itália\n",
      "6     Argentina\n",
      "7      Alemanha\n",
      "8        França\n",
      "Name: País, dtype: object\n",
      "\n",
      "Anos:\n",
      "0    1958.0\n",
      "1    1930.0\n",
      "2    1966.0\n",
      "3    2010.0\n",
      "4       NaN\n",
      "5    1934.0\n",
      "6    1978.0\n",
      "7    1954.0\n",
      "8    1998.0\n",
      "Name: Ano, dtype: float64\n"
     ]
    }
   ],
   "source": [
    "print('Países:')\n",
    "print(dados['País'])\n",
    "print('\\nAnos:')\n",
    "print(dados.Ano)\n"
   ]
  },
  {
   "cell_type": "markdown",
   "id": "a60f5380",
   "metadata": {},
   "source": [
    "Podemos imprimir mais de uma coluna (em vez do DataFrame completo) passando os nomes das colunas desejadas como valor de índice dentro de uma lista:"
   ]
  },
  {
   "cell_type": "code",
   "execution_count": 13,
   "id": "9aa305a4",
   "metadata": {},
   "outputs": [
    {
     "name": "stdout",
     "output_type": "stream",
     "text": [
      "Países e Títulos:\n",
      "         País  Titulos\n",
      "0      Brasil        5\n",
      "1     Uruguai        2\n",
      "2  Inglaterra        1\n",
      "3     Espanha        1\n",
      "4     Holanda        0\n",
      "5      Itália        4\n",
      "6   Argentina        3\n",
      "7    Alemanha        4\n",
      "8      França        2\n"
     ]
    }
   ],
   "source": [
    "print('Países e Títulos:')\n",
    "print(dados[['País','Titulos']])"
   ]
  },
  {
   "cell_type": "markdown",
   "id": "a73971a0-9ed8-44c1-b354-0920d65b3a02",
   "metadata": {},
   "source": [
    "**Acrescentar colunas**  \n",
    "Adicionamos uma nova coluna ao DF simplesmente passando seu nome entre colchetes, e atribuindo valores a partir de uma sequência, como uma lista. Podemos inicializar a coluna com um único valor também (mesmo valor em todas as linhas), como por exemplo o valor 0:"
   ]
  },
  {
   "cell_type": "code",
   "execution_count": 14,
   "id": "e24770da",
   "metadata": {},
   "outputs": [
    {
     "name": "stdout",
     "output_type": "stream",
     "text": [
      "   Titulos        País     Ano  Participações\n",
      "0        5      Brasil  1958.0              0\n",
      "1        2     Uruguai  1930.0              0\n",
      "2        1  Inglaterra  1966.0              0\n",
      "3        1     Espanha  2010.0              0\n",
      "4        0     Holanda     NaN              0\n",
      "5        4      Itália  1934.0              0\n",
      "6        3   Argentina  1978.0              0\n",
      "7        4    Alemanha  1954.0              0\n",
      "8        2      França  1998.0              0\n"
     ]
    }
   ],
   "source": [
    "# Acrescentar uma coluna ao DataFrame:\n",
    "dados['Participações'] = 0\n",
    "print(dados)\n"
   ]
  },
  {
   "cell_type": "markdown",
   "id": "43dbc197-51ae-4428-845b-e2c676ffcb16",
   "metadata": {},
   "source": [
    "E podemos então preencher essa nova coluna com valores oriundos de uma lista"
   ]
  },
  {
   "cell_type": "code",
   "execution_count": 15,
   "id": "c181e6bf",
   "metadata": {},
   "outputs": [
    {
     "name": "stdout",
     "output_type": "stream",
     "text": [
      "   Titulos        País     Ano  Participações\n",
      "0        5      Brasil  1958.0             22\n",
      "1        2     Uruguai  1930.0             14\n",
      "2        1  Inglaterra  1966.0             16\n",
      "3        1     Espanha  2010.0             16\n",
      "4        0     Holanda     NaN             11\n",
      "5        4      Itália  1934.0             18\n",
      "6        3   Argentina  1978.0             18\n",
      "7        4    Alemanha  1954.0             20\n",
      "8        2      França  1998.0             16\n"
     ]
    }
   ],
   "source": [
    "# Preencher a coluna com valores de uma lista:\n",
    "part = [22,14,16,16,11,18,18,20,16]\n",
    "dados['Participações'] = part\n",
    "print(dados)\n"
   ]
  },
  {
   "cell_type": "markdown",
   "id": "2792c949-4741-42e3-a971-f150d4836997",
   "metadata": {},
   "source": [
    "**Excluir colunas**  \n",
    "Para excluir uma coluna do DataFrame empregamos a função del:"
   ]
  },
  {
   "cell_type": "code",
   "execution_count": 16,
   "id": "f268eed3",
   "metadata": {},
   "outputs": [
    {
     "name": "stdout",
     "output_type": "stream",
     "text": [
      "   Titulos        País     Ano\n",
      "0        5      Brasil  1958.0\n",
      "1        2     Uruguai  1930.0\n",
      "2        1  Inglaterra  1966.0\n",
      "3        1     Espanha  2010.0\n",
      "4        0     Holanda     NaN\n",
      "5        4      Itália  1934.0\n",
      "6        3   Argentina  1978.0\n",
      "7        4    Alemanha  1954.0\n",
      "8        2      França  1998.0\n"
     ]
    }
   ],
   "source": [
    "# Excluir coluna \"Participações\"\n",
    "del dados['Participações']\n",
    "print(dados)\n"
   ]
  },
  {
   "cell_type": "markdown",
   "id": "9430ff85-1fdb-4c3b-87e9-0fb42c7b097e",
   "metadata": {},
   "source": [
    "**Excluir linha**  \n",
    "É possível excluir uma linha usando o método .drop(), passando o número da linha a excluir como um valor de índice. No exemplo a seguir vamos criar um novo DataFrame a partir do atual, excluindo nele a linha 4:"
   ]
  },
  {
   "cell_type": "code",
   "execution_count": 17,
   "id": "622658f7",
   "metadata": {},
   "outputs": [
    {
     "name": "stdout",
     "output_type": "stream",
     "text": [
      "   Titulos        País     Ano\n",
      "0        5      Brasil  1958.0\n",
      "1        2     Uruguai  1930.0\n",
      "2        1  Inglaterra  1966.0\n",
      "3        1     Espanha  2010.0\n",
      "5        4      Itália  1934.0\n",
      "6        3   Argentina  1978.0\n",
      "7        4    Alemanha  1954.0\n",
      "8        2      França  1998.0\n"
     ]
    }
   ],
   "source": [
    "# Excluir a linha 4 (Holanda)\n",
    "dados2 = dados.drop([4])\n",
    "print(dados2)\n"
   ]
  },
  {
   "cell_type": "markdown",
   "id": "cd32dd23-b368-4ea3-b239-854639d15a84",
   "metadata": {},
   "source": [
    "Para excluir várias linhas de uma vez, basta passar uma lista com seus números de índice:"
   ]
  },
  {
   "cell_type": "code",
   "execution_count": 18,
   "id": "42bc3704",
   "metadata": {},
   "outputs": [
    {
     "name": "stdout",
     "output_type": "stream",
     "text": [
      "   Titulos        País     Ano\n",
      "0        5      Brasil  1958.0\n",
      "1        2     Uruguai  1930.0\n",
      "2        1  Inglaterra  1966.0\n",
      "6        3   Argentina  1978.0\n",
      "7        4    Alemanha  1954.0\n",
      "8        2      França  1998.0\n"
     ]
    }
   ],
   "source": [
    "# Excluir as linhas 3, 4 e 5 de uma vez\n",
    "dados2 = dados.drop([4, 3, 5])\n",
    "print(dados2)"
   ]
  },
  {
   "cell_type": "markdown",
   "id": "5dd657d3-8015-4edb-87a2-363137636457",
   "metadata": {},
   "source": [
    "Para excluir uma linha no DataFrame em si, sem precisar criar uma cópia dele, usamos o parâmetro inplace=True:"
   ]
  },
  {
   "cell_type": "code",
   "execution_count": 19,
   "id": "78ce7003",
   "metadata": {},
   "outputs": [
    {
     "name": "stdout",
     "output_type": "stream",
     "text": [
      "   Titulos        País     Ano\n",
      "0        5      Brasil  1958.0\n",
      "1        2     Uruguai  1930.0\n",
      "2        1  Inglaterra  1966.0\n",
      "3        1     Espanha  2010.0\n",
      "5        4      Itália  1934.0\n",
      "6        3   Argentina  1978.0\n",
      "7        4    Alemanha  1954.0\n",
      "8        2      França  1998.0\n"
     ]
    }
   ],
   "source": [
    "# Excluir linhas in loco\n",
    "dados.drop(4, inplace=True)\n",
    "print(dados)"
   ]
  },
  {
   "cell_type": "markdown",
   "id": "f539040a-65d5-4422-a028-8d023aaaead9",
   "metadata": {},
   "source": [
    "Podemos retornar um conjunto de linhas passando seus índices, inclusive usando fatiamento (slicing):"
   ]
  },
  {
   "cell_type": "code",
   "execution_count": 20,
   "id": "950e5168",
   "metadata": {},
   "outputs": [
    {
     "name": "stdout",
     "output_type": "stream",
     "text": [
      "   Titulos        País     Ano\n",
      "1        2     Uruguai  1930.0\n",
      "2        1  Inglaterra  1966.0\n",
      "3        1     Espanha  2010.0\n",
      "5        4      Itália  1934.0\n"
     ]
    }
   ],
   "source": [
    "# Retornar linhas de 1 a 5:\n",
    "print(dados[1:5])\n"
   ]
  },
  {
   "cell_type": "markdown",
   "id": "30ef05ca-5201-46df-9e50-d46b6ce2dbe7",
   "metadata": {},
   "source": [
    "Também é possível realizar essa operação usando rótulos em vez de números de índice:"
   ]
  },
  {
   "cell_type": "code",
   "execution_count": 21,
   "id": "20bddd01",
   "metadata": {},
   "outputs": [
    {
     "name": "stdout",
     "output_type": "stream",
     "text": [
      "         País     Ano  Titulos\n",
      "a      Brasil  1958.0        5\n",
      "b     Uruguai  1930.0        2\n",
      "c  Inglaterra  1966.0        1\n",
      "d     Espanha  2010.0        1\n",
      "e     Holanda     NaN        0\n",
      "f      Itália  1934.0        4\n",
      "g   Argentina  1978.0        3\n",
      "h    Alemanha  1954.0        4\n",
      "i      França  1998.0        2 \n",
      "\n",
      "         País     Ano  Titulos\n",
      "c  Inglaterra  1966.0        1\n",
      "d     Espanha  2010.0        1\n",
      "e     Holanda     NaN        0\n",
      "f      Itália  1934.0        4\n"
     ]
    }
   ],
   "source": [
    "# Fatiamento com rótulos\n",
    "\n",
    "dicionario={'País':['Brasil','Uruguai','Inglaterra','Espanha','Holanda','Itália','Argentina','Alemanha','França'],\n",
    "           'Ano':[1958,1930,1966,2010,None,1934,1978,1954,1998],\n",
    "           'Titulos':[5,2,1,1,0,4,3,4,2]\n",
    "           }\n",
    "\n",
    "dados = pd.DataFrame(dicionario, index=['a','b','c','d','e','f','g','h','i'])\n",
    "# Mostra df completo\n",
    "print(dados, '\\n')\n",
    "# Mostra apenas linhas de índices c até f:\n",
    "print(dados['c':'f'])\n"
   ]
  },
  {
   "cell_type": "markdown",
   "id": "eb740379-f52a-4a86-8689-766d8881cb18",
   "metadata": {},
   "source": [
    "Podemos realizar indexação com método .loc(), retornando linhas e colunas específicas apenas por meio de seus rótulos:"
   ]
  },
  {
   "cell_type": "code",
   "execution_count": 22,
   "id": "a7f86768",
   "metadata": {},
   "outputs": [
    {
     "name": "stdout",
     "output_type": "stream",
     "text": [
      "País       Uruguai\n",
      "Titulos          2\n",
      "Name: b, dtype: object\n",
      "a    1958.0\n",
      "b    1930.0\n",
      "c    1966.0\n",
      "d    2010.0\n",
      "Name: Ano, dtype: float64\n"
     ]
    }
   ],
   "source": [
    "# Indexação com loc\n",
    "# Linha b, colunas de País e Títulos\n",
    "print(dados.loc['b',['País', 'Titulos']])\n",
    "\n",
    "# Linhas de a a d, coluna de Ano:\n",
    "print(dados.loc[:'d','Ano'])\n"
   ]
  },
  {
   "cell_type": "markdown",
   "id": "526356db-e2f6-4f0b-8efd-f843f7edbb90",
   "metadata": {},
   "source": [
    "Ou ainda indexar com método .iloc(), que retorna as linhas e colunas específicas de acordo com números de índices:"
   ]
  },
  {
   "cell_type": "code",
   "execution_count": 23,
   "id": "9f5edbd3",
   "metadata": {},
   "outputs": [
    {
     "name": "stdout",
     "output_type": "stream",
     "text": [
      "País       Uruguai\n",
      "Titulos          2\n",
      "Name: b, dtype: object\n"
     ]
    }
   ],
   "source": [
    "# Indexação com iloc\n",
    "print(dados.iloc[1,[0, 2]])\n"
   ]
  },
  {
   "cell_type": "markdown",
   "id": "e17659d5-9aeb-43a4-a66d-7f435a450864",
   "metadata": {},
   "source": [
    "Podemos exibir os dados ordenados por índice tanto em ordem crescente quando descrescente com o método sort_index():"
   ]
  },
  {
   "cell_type": "code",
   "execution_count": 24,
   "id": "a38eea63",
   "metadata": {},
   "outputs": [
    {
     "name": "stdout",
     "output_type": "stream",
     "text": [
      "         País     Ano  Titulos\n",
      "a      Brasil  1958.0        5\n",
      "b     Uruguai  1930.0        2\n",
      "c  Inglaterra  1966.0        1\n",
      "d     Espanha  2010.0        1\n",
      "e     Holanda     NaN        0\n",
      "f      Itália  1934.0        4\n",
      "g   Argentina  1978.0        3\n",
      "h    Alemanha  1954.0        4\n",
      "i      França  1998.0        2\n",
      "\n",
      "         País     Ano  Titulos\n",
      "i      França  1998.0        2\n",
      "h    Alemanha  1954.0        4\n",
      "g   Argentina  1978.0        3\n",
      "f      Itália  1934.0        4\n",
      "e     Holanda     NaN        0\n",
      "d     Espanha  2010.0        1\n",
      "c  Inglaterra  1966.0        1\n",
      "b     Uruguai  1930.0        2\n",
      "a      Brasil  1958.0        5\n"
     ]
    }
   ],
   "source": [
    "# Ordenação por índice\n",
    "print(dados.sort_index())\n",
    "print()\n",
    "# Ordenação por índice em ordem inversa\n",
    "print(dados.sort_index(ascending=False))\n"
   ]
  },
  {
   "cell_type": "markdown",
   "id": "32e6919a-44cb-44e1-a974-b445bd1ee193",
   "metadata": {},
   "source": [
    "Para ordenar os dados pelos valores de uma coluna específica usamos o método sort_values(), passando os nomes das colunas na ordem em que desejamos a ordenação:"
   ]
  },
  {
   "cell_type": "code",
   "execution_count": 25,
   "id": "0782fbe8",
   "metadata": {},
   "outputs": [
    {
     "name": "stdout",
     "output_type": "stream",
     "text": [
      "         País     Ano  Titulos\n",
      "h    Alemanha  1954.0        4\n",
      "g   Argentina  1978.0        3\n",
      "a      Brasil  1958.0        5\n",
      "d     Espanha  2010.0        1\n",
      "i      França  1998.0        2\n",
      "e     Holanda     NaN        0\n",
      "c  Inglaterra  1966.0        1\n",
      "f      Itália  1934.0        4\n",
      "b     Uruguai  1930.0        2\n"
     ]
    }
   ],
   "source": [
    "# Ordenação por colunas: ordem alfabética de país\n",
    "print(dados.sort_values(by='País'))"
   ]
  },
  {
   "cell_type": "code",
   "execution_count": 26,
   "id": "b0e2beb9-aeaa-449a-9772-37e2696264bf",
   "metadata": {},
   "outputs": [
    {
     "name": "stdout",
     "output_type": "stream",
     "text": [
      "         País     Ano  Titulos\n",
      "b     Uruguai  1930.0        2\n",
      "f      Itália  1934.0        4\n",
      "c  Inglaterra  1966.0        1\n",
      "e     Holanda     NaN        0\n",
      "i      França  1998.0        2\n",
      "d     Espanha  2010.0        1\n",
      "a      Brasil  1958.0        5\n",
      "g   Argentina  1978.0        3\n",
      "h    Alemanha  1954.0        4\n"
     ]
    }
   ],
   "source": [
    "# Ordem alfabética inversa:\n",
    "print(dados.sort_values(by='País', ascending=False))"
   ]
  },
  {
   "cell_type": "code",
   "execution_count": 27,
   "id": "a23d0169",
   "metadata": {},
   "outputs": [
    {
     "name": "stdout",
     "output_type": "stream",
     "text": [
      "         País     Ano  Titulos\n",
      "e     Holanda     NaN        0\n",
      "d     Espanha  2010.0        1\n",
      "c  Inglaterra  1966.0        1\n",
      "i      França  1998.0        2\n",
      "b     Uruguai  1930.0        2\n",
      "g   Argentina  1978.0        3\n",
      "h    Alemanha  1954.0        4\n",
      "f      Itália  1934.0        4\n",
      "a      Brasil  1958.0        5\n"
     ]
    }
   ],
   "source": [
    "# Ordenação por várias colunas: ordem crescente de títulos e alfabética de países.\n",
    "print(dados.sort_values(by=['Titulos','País']))"
   ]
  },
  {
   "cell_type": "code",
   "execution_count": 28,
   "id": "948cdb9a",
   "metadata": {},
   "outputs": [
    {
     "name": "stdout",
     "output_type": "stream",
     "text": [
      "         País     Ano  Titulos\n",
      "a      Brasil  1958.0        5\n",
      "h    Alemanha  1954.0        4\n",
      "f      Itália  1934.0        4\n",
      "g   Argentina  1978.0        3\n",
      "i      França  1998.0        2\n",
      "b     Uruguai  1930.0        2\n",
      "d     Espanha  2010.0        1\n",
      "c  Inglaterra  1966.0        1\n",
      "e     Holanda     NaN        0\n"
     ]
    }
   ],
   "source": [
    "# Ou ainda ordem decrescente de títulos e alfabética de países\n",
    "# Ordenação por várias colunas\n",
    "print(dados.sort_values(by=['Titulos','País'],\n",
    "                       ascending = [False, True]))"
   ]
  },
  {
   "cell_type": "markdown",
   "id": "6de424f4-f98d-495c-a3b3-d52e75f74363",
   "metadata": {},
   "source": [
    "**Renomear colunas**"
   ]
  },
  {
   "cell_type": "markdown",
   "id": "aa87e86c-9882-497a-b976-ce4db593d8f6",
   "metadata": {},
   "source": [
    "É possível renomear uma ou mais colunas de um DF usando o método rename(). Para tal, passamos um mapeamento de dicionário para o parâmetro \"columns\" contendo pares chave:valor nos quais a chave é o nome da coluna a renomear, e o valor é o novo nome que será usado.\n",
    "\n",
    "Por exemplo, vamos renomear a coluna \"Titulos\" para \"Campeonatos\":\n"
   ]
  },
  {
   "cell_type": "code",
   "execution_count": 29,
   "id": "19a1d58e-2396-4e6c-aeab-2c385270db1d",
   "metadata": {},
   "outputs": [
    {
     "name": "stdout",
     "output_type": "stream",
     "text": [
      "Index(['País', 'Ano', 'Campeonatos'], dtype='object')\n"
     ]
    }
   ],
   "source": [
    "# Renomear uma coluna \n",
    "dados2=dados.rename(columns = {'Titulos':'Campeonatos'})\n",
    "print(dados2.columns)\n"
   ]
  },
  {
   "cell_type": "markdown",
   "id": "c1082da2-41ca-4657-95f6-cc04ee086e26",
   "metadata": {},
   "source": [
    "Uma alternativa é usar o parâmetro axis='columns' ou axis='1':"
   ]
  },
  {
   "cell_type": "code",
   "execution_count": 30,
   "id": "79eefc48-5d89-4ad1-80a3-bb09a7168b74",
   "metadata": {},
   "outputs": [
    {
     "name": "stdout",
     "output_type": "stream",
     "text": [
      "Index(['País', 'Ano', 'Titulos'], dtype='object')\n"
     ]
    }
   ],
   "source": [
    "# Renomear a coluna de volta\n",
    "dados2=dados.rename({'Campeonatos':'Titulos'}, axis='columns')\n",
    "print(dados2.columns)\n"
   ]
  },
  {
   "cell_type": "markdown",
   "id": "da22ea43-6283-453f-8345-29cc98a6a441",
   "metadata": {},
   "source": [
    "Para alterar o nome da coluna in loco (sem criar outro df), usamos novamente o parâmetro inplace:\n"
   ]
  },
  {
   "cell_type": "code",
   "execution_count": 31,
   "id": "9b885d3d-cd13-4a29-aa8d-448b7006cd3d",
   "metadata": {},
   "outputs": [
    {
     "name": "stdout",
     "output_type": "stream",
     "text": [
      "Index(['País', 'Ano', 'Campeonatos'], dtype='object')\n"
     ]
    }
   ],
   "source": [
    "# Renomear coluna no DataFrame atual (inplace).\n",
    "dados2.rename({'Titulos':'Campeonatos'}, axis='columns', inplace=True)\n",
    "print(dados2.columns)"
   ]
  },
  {
   "cell_type": "markdown",
   "id": "8693084d-e88b-47ed-8a00-aab53fdfc30b",
   "metadata": {},
   "source": [
    "Para renomear múltiplas colunas o processo é o mesmo, bastando passá-las como um mapeamento de dicionário.\n",
    "Por exemplo, vamos renomear as colunas \"Campeonatos\" e \"Ano\" para \"Titulos\" e \"Primeiro_Titulo\" respectivamente no df dados2:"
   ]
  },
  {
   "cell_type": "code",
   "execution_count": 32,
   "id": "2cfa6e09-2923-4cc2-81f1-4e16b440e68f",
   "metadata": {},
   "outputs": [
    {
     "name": "stdout",
     "output_type": "stream",
     "text": [
      "Index(['País', 'Primeiro_Titulo', 'Titulos'], dtype='object')\n"
     ]
    }
   ],
   "source": [
    "# Renomear várias colunas de uma vez no DataFrame atual.\n",
    "dados2.rename({'Campeonatos':'Titulos', 'Ano':'Primeiro_Titulo'}, axis='columns', inplace=True)\n",
    "print(dados2.columns)"
   ]
  },
  {
   "cell_type": "markdown",
   "id": "faa5e4c8-cbe4-4f2b-8c1f-da77afe1bea3",
   "metadata": {},
   "source": [
    "Também podemos renomear todas as colunas de um dataframe de uma vez, passando para isso uma lista com os novos nomes a usar. O comprimento da lista deve ser igual ao número de colunas existentes no df, e as colunas serão renomeadas na ordem em que aparecem.\n",
    "\n",
    "Note que neste caso renomeamos as colunas SEM usar o método rename().\n",
    "\n",
    "Por exemplo:"
   ]
  },
  {
   "cell_type": "code",
   "execution_count": 33,
   "id": "3c3ec33c-ba5a-4fc7-92f1-65663fcc9f59",
   "metadata": {},
   "outputs": [
    {
     "name": "stdout",
     "output_type": "stream",
     "text": [
      "Index(['Nação', 'Ano_Ganhou', 'Qtde_Titulos'], dtype='object')\n"
     ]
    }
   ],
   "source": [
    "# Renomear colunas com lista\n",
    "nomes = ['Nação','Ano_Ganhou','Qtde_Titulos']\n",
    "dados2.columns = nomes\n",
    "print(dados2.columns)"
   ]
  },
  {
   "cell_type": "markdown",
   "id": "73a25ee6-ba5c-4c0f-8b10-3175b0ed709e",
   "metadata": {},
   "source": [
    "**Renomear colunas adicionando sufixos ou prefixos**\n",
    "\n",
    "Às vezes precisamos renomear colunas adicionando sufixos ou prefixos na forma de uma sequência de caracteres. Podemos fazer isso usando os métodos add_prefix() ou add_suffix(). Por exemplo, vamos adicionar o prefixo \"copa_\"  a todas as colunas do dataframe dados2:"
   ]
  },
  {
   "cell_type": "code",
   "execution_count": 34,
   "id": "0df0ad03-4c91-44a4-ab19-705c03797291",
   "metadata": {},
   "outputs": [
    {
     "name": "stdout",
     "output_type": "stream",
     "text": [
      "Index(['copa_Nação', 'copa_Ano_Ganhou', 'copa_Qtde_Titulos'], dtype='object')\n"
     ]
    }
   ],
   "source": [
    "# Renomear todas as colunas adicionando um prefixo\n",
    "dados2 = dados2.add_prefix('copa_')\n",
    "print(dados2.columns)"
   ]
  },
  {
   "cell_type": "markdown",
   "id": "325c9060-d50f-49b2-ae8f-c7f5e8391dbe",
   "metadata": {},
   "source": [
    "Mais aqui: https://pandas.pydata.org/docs/reference/api/pandas.DataFrame.add_prefix.html\n",
    "\n",
    "Para remover um prefixo ou sufixo, podemos usar (entre outros) o método str.replace(), que substitui todas as ocorrências de uma determinada string por outra string (ou nenhuma string, que é o caso). Vamos remover o prefixo \"copa_\" adicionado anteriormente para testar:"
   ]
  },
  {
   "cell_type": "code",
   "execution_count": 35,
   "id": "80a7b248-3193-4ed5-8f2f-491e94d01258",
   "metadata": {},
   "outputs": [
    {
     "data": {
      "text/html": [
       "<div>\n",
       "<style scoped>\n",
       "    .dataframe tbody tr th:only-of-type {\n",
       "        vertical-align: middle;\n",
       "    }\n",
       "\n",
       "    .dataframe tbody tr th {\n",
       "        vertical-align: top;\n",
       "    }\n",
       "\n",
       "    .dataframe thead th {\n",
       "        text-align: right;\n",
       "    }\n",
       "</style>\n",
       "<table border=\"1\" class=\"dataframe\">\n",
       "  <thead>\n",
       "    <tr style=\"text-align: right;\">\n",
       "      <th></th>\n",
       "      <th>País</th>\n",
       "      <th>Ano</th>\n",
       "      <th>Titulos</th>\n",
       "    </tr>\n",
       "  </thead>\n",
       "  <tbody>\n",
       "    <tr>\n",
       "      <th>a</th>\n",
       "      <td>Brasil</td>\n",
       "      <td>1958.0</td>\n",
       "      <td>5</td>\n",
       "    </tr>\n",
       "    <tr>\n",
       "      <th>b</th>\n",
       "      <td>Uruguai</td>\n",
       "      <td>1930.0</td>\n",
       "      <td>2</td>\n",
       "    </tr>\n",
       "    <tr>\n",
       "      <th>c</th>\n",
       "      <td>Inglaterra</td>\n",
       "      <td>1966.0</td>\n",
       "      <td>1</td>\n",
       "    </tr>\n",
       "    <tr>\n",
       "      <th>d</th>\n",
       "      <td>Espanha</td>\n",
       "      <td>2010.0</td>\n",
       "      <td>1</td>\n",
       "    </tr>\n",
       "    <tr>\n",
       "      <th>e</th>\n",
       "      <td>Holanda</td>\n",
       "      <td>NaN</td>\n",
       "      <td>0</td>\n",
       "    </tr>\n",
       "    <tr>\n",
       "      <th>f</th>\n",
       "      <td>Itália</td>\n",
       "      <td>1934.0</td>\n",
       "      <td>4</td>\n",
       "    </tr>\n",
       "    <tr>\n",
       "      <th>g</th>\n",
       "      <td>Argentina</td>\n",
       "      <td>1978.0</td>\n",
       "      <td>3</td>\n",
       "    </tr>\n",
       "    <tr>\n",
       "      <th>h</th>\n",
       "      <td>Alemanha</td>\n",
       "      <td>1954.0</td>\n",
       "      <td>4</td>\n",
       "    </tr>\n",
       "    <tr>\n",
       "      <th>i</th>\n",
       "      <td>França</td>\n",
       "      <td>1998.0</td>\n",
       "      <td>2</td>\n",
       "    </tr>\n",
       "  </tbody>\n",
       "</table>\n",
       "</div>"
      ],
      "text/plain": [
       "         País     Ano  Titulos\n",
       "a      Brasil  1958.0        5\n",
       "b     Uruguai  1930.0        2\n",
       "c  Inglaterra  1966.0        1\n",
       "d     Espanha  2010.0        1\n",
       "e     Holanda     NaN        0\n",
       "f      Itália  1934.0        4\n",
       "g   Argentina  1978.0        3\n",
       "h    Alemanha  1954.0        4\n",
       "i      França  1998.0        2"
      ]
     },
     "execution_count": 35,
     "metadata": {},
     "output_type": "execute_result"
    }
   ],
   "source": [
    "# Remover prefixo com método str.replace\n",
    "dados2.columns = dados.columns.str.replace('copa_', '')\n",
    "dados2"
   ]
  },
  {
   "cell_type": "markdown",
   "id": "4a3e9d9c-4e1d-4cd0-b205-824a96e0caec",
   "metadata": {},
   "source": [
    "Cuidado ao usar esse método para remover prefixos e sufixos, pois se houverem outras sequências de caracteres nos nomes das colunas iguais às que se deseja remover, estas também serão removidas, alterando de forma indesejada os nomes."
   ]
  },
  {
   "cell_type": "code",
   "execution_count": null,
   "id": "228eddc5-b2c2-4590-9f00-64ec67c5b274",
   "metadata": {},
   "outputs": [],
   "source": []
  }
 ],
 "metadata": {
  "kernelspec": {
   "display_name": "Python 3 (ipykernel)",
   "language": "python",
   "name": "python3"
  },
  "language_info": {
   "codemirror_mode": {
    "name": "ipython",
    "version": 3
   },
   "file_extension": ".py",
   "mimetype": "text/x-python",
   "name": "python",
   "nbconvert_exporter": "python",
   "pygments_lexer": "ipython3",
   "version": "3.11.4"
  }
 },
 "nbformat": 4,
 "nbformat_minor": 5
}
