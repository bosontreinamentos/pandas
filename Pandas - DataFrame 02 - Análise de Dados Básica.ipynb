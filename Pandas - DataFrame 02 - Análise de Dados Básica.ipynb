{
 "cells": [
  {
   "cell_type": "markdown",
   "id": "08d19265",
   "metadata": {},
   "source": [
    "### Biblioteca Pandas"
   ]
  },
  {
   "cell_type": "code",
   "execution_count": 50,
   "id": "1469caa6",
   "metadata": {},
   "outputs": [
    {
     "name": "stdout",
     "output_type": "stream",
     "text": [
      "Collecting seaborn\n",
      "  Downloading seaborn-0.12.2-py3-none-any.whl (293 kB)\n",
      "     ---------------------------------------- 0.0/293.3 kB ? eta -:--:--\n",
      "     -------------------------------------- 293.3/293.3 kB 9.1 MB/s eta 0:00:00\n",
      "Requirement already satisfied: numpy!=1.24.0,>=1.17 in c:\\programdata\\anaconda3\\envs\\testes\\lib\\site-packages (from seaborn) (1.25.2)\n",
      "Requirement already satisfied: pandas>=0.25 in c:\\programdata\\anaconda3\\envs\\testes\\lib\\site-packages (from seaborn) (2.0.3)\n",
      "Requirement already satisfied: matplotlib!=3.6.1,>=3.1 in c:\\programdata\\anaconda3\\envs\\testes\\lib\\site-packages (from seaborn) (3.7.2)\n",
      "Requirement already satisfied: contourpy>=1.0.1 in c:\\programdata\\anaconda3\\envs\\testes\\lib\\site-packages (from matplotlib!=3.6.1,>=3.1->seaborn) (1.1.0)\n",
      "Requirement already satisfied: cycler>=0.10 in c:\\programdata\\anaconda3\\envs\\testes\\lib\\site-packages (from matplotlib!=3.6.1,>=3.1->seaborn) (0.11.0)\n",
      "Requirement already satisfied: fonttools>=4.22.0 in c:\\programdata\\anaconda3\\envs\\testes\\lib\\site-packages (from matplotlib!=3.6.1,>=3.1->seaborn) (4.42.1)\n",
      "Requirement already satisfied: kiwisolver>=1.0.1 in c:\\programdata\\anaconda3\\envs\\testes\\lib\\site-packages (from matplotlib!=3.6.1,>=3.1->seaborn) (1.4.5)\n",
      "Requirement already satisfied: packaging>=20.0 in c:\\programdata\\anaconda3\\envs\\testes\\lib\\site-packages (from matplotlib!=3.6.1,>=3.1->seaborn) (23.0)\n",
      "Requirement already satisfied: pillow>=6.2.0 in c:\\programdata\\anaconda3\\envs\\testes\\lib\\site-packages (from matplotlib!=3.6.1,>=3.1->seaborn) (10.0.0)\n",
      "Requirement already satisfied: pyparsing<3.1,>=2.3.1 in c:\\programdata\\anaconda3\\envs\\testes\\lib\\site-packages (from matplotlib!=3.6.1,>=3.1->seaborn) (3.0.9)\n",
      "Requirement already satisfied: python-dateutil>=2.7 in c:\\programdata\\anaconda3\\envs\\testes\\lib\\site-packages (from matplotlib!=3.6.1,>=3.1->seaborn) (2.8.2)\n",
      "Requirement already satisfied: pytz>=2020.1 in c:\\programdata\\anaconda3\\envs\\testes\\lib\\site-packages (from pandas>=0.25->seaborn) (2022.7)\n",
      "Requirement already satisfied: tzdata>=2022.1 in c:\\programdata\\anaconda3\\envs\\testes\\lib\\site-packages (from pandas>=0.25->seaborn) (2023.3)\n",
      "Requirement already satisfied: six>=1.5 in c:\\programdata\\anaconda3\\envs\\testes\\lib\\site-packages (from python-dateutil>=2.7->matplotlib!=3.6.1,>=3.1->seaborn) (1.16.0)\n",
      "Installing collected packages: seaborn\n",
      "Successfully installed seaborn-0.12.2\n"
     ]
    }
   ],
   "source": [
    "#!pip install pandas\n",
    "#!pip install matplotlib\n",
    "#!pip install seaborn"
   ]
  },
  {
   "cell_type": "code",
   "execution_count": null,
   "id": "9a7a8a71",
   "metadata": {},
   "outputs": [],
   "source": [
    "import pandas as pd"
   ]
  },
  {
   "cell_type": "markdown",
   "id": "c9373af4-aedd-4950-aa0a-ee6129e32057",
   "metadata": {},
   "source": [
    "Um DataFrame representa uma tabela de dados retangular e contém uma coleção ordenada de colunas, em que cada uma pode ter um tipo de valor diferente (numérico, string, booleano etc.).\n",
    "\n",
    "Trata-se de uma estrutura de dados bidimensional semelhante a uma tabela de banco de dados ou uma planilha do Excel.\n",
    "\n",
    "Os DataFrames são altamente versáteis e são frequentemente usados para representar conjuntos de dados completos.\n"
   ]
  },
  {
   "cell_type": "markdown",
   "id": "7db106ee-5dac-409e-aa98-a304075fc4f3",
   "metadata": {},
   "source": [
    "**Como criar um DataFrame**\n",
    "\n",
    "Vamos criar mais um DataFrame a partir de outro dicionário que contém nomes de países, quantidade de títulos mundiais, participações em copas e ano em que ganhou o primeiro título.\n"
   ]
  },
  {
   "cell_type": "code",
   "execution_count": 54,
   "id": "03a14118",
   "metadata": {},
   "outputs": [
    {
     "name": "stdout",
     "output_type": "stream",
     "text": [
      "          País     Ano  Titulos  Participações\n",
      "0       Brasil  1958.0        5             22\n",
      "1      Uruguai  1930.0        2             14\n",
      "2      Bélgica     NaN        0             14\n",
      "3   Inglaterra  1966.0        1             16\n",
      "4      Espanha  2010.0        1             16\n",
      "5      Holanda     NaN        0             11\n",
      "6       Itália  1934.0        4             18\n",
      "7    Argentina  1978.0        3             18\n",
      "8     Alemanha  1954.0        4             20\n",
      "9       França  1998.0        2             16\n",
      "10     Croácia     NaN        0              6\n",
      "11    Portugal     NaN        0              8\n",
      "12      México     NaN        0             18\n",
      "13       Japão     NaN        0              7\n",
      "14      Suécia     NaN        0             12\n"
     ]
    }
   ],
   "source": [
    "dicionario={'País':['Brasil','Uruguai','Bélgica','Inglaterra','Espanha','Holanda','Itália',\n",
    "                    'Argentina','Alemanha','França','Croácia','Portugal','México','Japão','Suécia'],\n",
    "           'Ano':[1958,1930,None,1966,2010,None,1934,1978,1954,1998,None,None,None,None,None],\n",
    "           'Titulos':[5,2,0,1,1,0,4,3,4,2,0,0,0,0,0],\n",
    "           'Participações':[22,14,14,16,16,11,18,18,20,16,6,8,18,7,12]\n",
    "           }\n",
    "\n",
    "dados = pd.DataFrame(dicionario)\n",
    "print(dados)\n"
   ]
  },
  {
   "cell_type": "markdown",
   "id": "45ea668d-23b5-406a-9722-ecdeb6343b4d",
   "metadata": {},
   "source": [
    "# Arquivos CSV #\n",
    "\n",
    "Para exportar um DataFrame do Pandas para um arquivo CSV (Comma-Separated Values), usamos o método to_csv(). \n",
    "\n",
    "Sintaxe:\n",
    "\n",
    "***df.to_csv('nome_do_arquivo.csv', index=True|False)***\n",
    "\n",
    "O argumento 'nome_do_arquivo.csv' é o nome que queremos dar ao arquivo CSV de saída. O argumento index=False indica que o índice do DataFrame não será incluído como uma coluna separada no arquivo CSV.\n",
    "\n",
    "Um arquivo com o nome especificado será criado no diretório atual contendo os dados do DataFrame.\n",
    "\n",
    "Também podemos especificar um caminho completo para salvar o arquivo em um local diferente do sistema de arquivos, como 'C:/caminho/completo/para/arquivo.csv'\n",
    "\n",
    "Vamos exportar o DF criado para um arquivo CSV:"
   ]
  },
  {
   "cell_type": "code",
   "execution_count": null,
   "id": "0a3680cd",
   "metadata": {},
   "outputs": [],
   "source": [
    "# Exportar DataFrame para CSV\n",
    "\n",
    "dados.to_csv('copa.csv', index=False)"
   ]
  },
  {
   "cell_type": "markdown",
   "id": "db215a96",
   "metadata": {},
   "source": [
    "## Importar arquivo CSV ##\n",
    "\n",
    "Para importar um arquivo CSV para um DataFrame do Pandas, usamos a função read_csv().\n",
    "Essa função permite que carregar dados de um arquivo CSV e convertê-los em um DataFrame.\n",
    "\n",
    "Sintaxe:\n",
    "\n",
    "***df = pd.read_csv('nome_do_arquivo.csv')***\n",
    "\n",
    "Aqui, o arquivo \"nome_do_arquivo.csv\" deve estar no mesmo diretório em que o seu script Python está sendo executado. A função read_csv() lerá o arquivo e o converterá em um DataFrame.\n",
    "\n",
    "Se o arquivo CSV estiver localizado em um diretório diferente, devemos especificar o caminho completo do arquivo:\n",
    "\n",
    "***df = pd.read_csv('/caminho/completo/para/nome_do_arquivo.csv')***\n",
    "\n",
    "Note que a função read_csv() possui muitos parâmetros que permitem personalizar a importação dos dados, como delimitadores, codificação, tratamento de valores ausentes, etc.\n",
    "\n",
    "Recomendo consultar a documentação oficial do Pandas para obter mais informações sobre esses parâmetros e suas opções.\n",
    "\n",
    "Vamos importar um DF em formato CSV. Após realizar modificações no arquivo copa.csv, vamos carregá-lo em um novo DF de nome \"dados2\".\n",
    "\n",
    "Abrimos o arquivo CVS gerado (copa.csv) em um editor de textos e acrescentamos os dados a seguir:\n",
    "\n",
    "Sérvia,,0,13  \n",
    "Chile,,0,9\n",
    "\n",
    "(não esqueça de dar enter na última linha)."
   ]
  },
  {
   "cell_type": "code",
   "execution_count": null,
   "id": "092513f0",
   "metadata": {},
   "outputs": [],
   "source": [
    "# Importar CSV para DataFrame\n",
    "\n",
    "dados2 = pd.read_csv('copa.csv')\n",
    "\n",
    "print(dados2)"
   ]
  },
  {
   "cell_type": "markdown",
   "id": "b9a0a05b",
   "metadata": {},
   "source": [
    "## Parâmetros de read_csv ##\n",
    "\n",
    "Alguns dos parâmetros da função read_csv são:\n",
    "\n",
    "**delimiter (ou sep)**\n",
    "- O parâmetro delimiter (ou sep) define o caractere usado para separar os valores no arquivo CSV.\n",
    "- O valor padrão é uma vírgula (,), que é por isso que o formato é chamado de Comma-Separated Values.\n",
    "- Se o seu arquivo CSV usar um separador diferente, como ponto e vírgula (;) ou tabulação (\\t), você pode especificá-lo usando esse parâmetro.\n",
    "\n",
    "Exemplo:\n",
    "\n",
    "Ler um arquivo CSV que usa ponto e vírgula como separador  \n",
    "***df = pd.read_csv('arquivo.csv', delimiter=';')***\n",
    "\n",
    "**encoding**\n",
    "- O parâmetro encoding define a codificação do arquivo CSV. Ele especifica como os caracteres são representados em bytes no arquivo.\n",
    "- Se os caracteres especiais não estiverem sendo interpretados corretamente, você pode especificar uma codificação diferente para corrigir isso.\n",
    "- Alguns valores comuns de encoding são 'utf-8' (padrão para muitos arquivos), 'latin1', 'cp1252', etc.\n",
    "\n",
    "Exemplo:\n",
    "\n",
    "Ler um arquivo CSV com codificação 'latin1'  \n",
    "***df = pd.read_csv('arquivo.csv', encoding='latin1')***\n",
    "\n",
    "É importante usar o parâmetro delimiter quando o separador não for a vírgula padrão e o parâmetro encoding quando os caracteres não estiverem sendo interpretados corretamente. Esses parâmetros garantem que os dados sejam importados corretamente e que não ocorram problemas de formatação ou codificação.\n"
   ]
  },
  {
   "cell_type": "markdown",
   "id": "79cfdb00",
   "metadata": {},
   "source": [
    "### Exportar uma coluna do DataFrame para um objeto Series\n",
    "\n",
    "Para exportar uma coluna específica de um DataFrame Pandas para um objeto Series, usamos a notação de indexação do DataFrame para selecionar essa coluna. Ao selecionar uma coluna de um DataFrame, o resultado é um objeto Series contendo os valores dessa coluna.\n",
    "\n",
    "Sintaxe:\n",
    "\n",
    "***nome_objeto_series = df['nome_coluna']***\n",
    "\n",
    "Ao executar essa instrução, será criado um novo objeto Series chamado 'nome_objeto_series' que contém os valores da coluna \"nome_coluna\" do DataFrame df"
   ]
  },
  {
   "cell_type": "code",
   "execution_count": null,
   "id": "a17e0d8e",
   "metadata": {},
   "outputs": [],
   "source": [
    "# Exportar a coluna \"País\" para um objeto Series:\n",
    "\n",
    "paises = dados['País']\n",
    "\n",
    "print(paises)"
   ]
  },
  {
   "cell_type": "markdown",
   "id": "62bf2466",
   "metadata": {},
   "source": [
    "### Importar uma coluna de um objeto Series para um DataFrame ###\n",
    "\n",
    "Podemos importar um objeto Series como uma nova coluna em um DataFrame. Para tal, simplesmente atribuimos o objeto Series a uma nova coluna com um nome desejado.\n",
    "\n",
    "Por exemplo, temos o DataFrame chamado dados2 e um objeto Series de nome continentes. Vamos adicionar essa série como uma nova coluna ao DataFrame:\n",
    "\n",
    "Sintaxe\n",
    "\n",
    "***df['Continente'] = continentes***\n",
    "\n",
    "Ao executar esse código, a série continentes será adicionada ao DataFrame como uma nova coluna chamada \"Continente\". O comprimento da série deve ser o mesmo que o número de linhas no DataFrame, caso contrário, ocorrerá um erro."
   ]
  },
  {
   "cell_type": "code",
   "execution_count": 32,
   "id": "22770678",
   "metadata": {},
   "outputs": [
    {
     "name": "stdout",
     "output_type": "stream",
     "text": [
      "          País     Ano  Titulos  Participações        Continente\n",
      "0       Brasil  1958.0        5             22    América do Sul\n",
      "1      Uruguai  1930.0        2             14    América do Sul\n",
      "2      Bélgica     NaN        0             14            Europa\n",
      "3   Inglaterra  1966.0        1             16            Europa\n",
      "4      Espanha  2010.0        1             16            Europa\n",
      "5      Holanda     NaN        0             11            Europa\n",
      "6       Itália  1934.0        4             18            Europa\n",
      "7    Argentina  1978.0        3             18    América do Sul\n",
      "8     Alemanha  1954.0        4             20            Europa\n",
      "9       França  1998.0        2             16            Europa\n",
      "10     Croácia     NaN        0              6            Europa\n",
      "11    Portugal     NaN        0              8            Europa\n",
      "12      México     NaN        0             18  América do Norte\n",
      "13       Japão     NaN        0              7              Ásia\n",
      "14      Suécia     NaN        0             12            Europa\n",
      "15      Sérvia     NaN        0             13            Europa\n",
      "16       Chile     NaN        0              9    América do Sul\n"
     ]
    }
   ],
   "source": [
    "# Importar o conteúdo da série \"continentes\" para o dataframe:\n",
    "\n",
    "# Series a usar:\n",
    "continentes = pd.Series(['América do Sul','América do Sul','Europa','Europa','Europa','Europa','Europa','América do Sul','Europa','Europa','Europa','Europa','América do Norte','Ásia','Europa','Europa','América do Sul'])\n",
    "\n",
    "# Importar o series como coluna nova no df:\n",
    "dados2['Continente'] = continentes\n",
    "\n",
    "# Visualizar DataFrame\n",
    "print(dados2)"
   ]
  },
  {
   "cell_type": "markdown",
   "id": "217b18ae",
   "metadata": {},
   "source": [
    "## Análise de Dados Básica ##\n",
    "\n",
    "Os DataFrames \"dados\" e \"dados2\" que estamos usando contém informações sobre participações e títulos em Copas do Mundo de Futebol por diferentes países em diferentes anos.  \n",
    "Com esses dados, podemos realizar diversas tipos de análises bastante úteis. "
   ]
  },
  {
   "cell_type": "markdown",
   "id": "02cd601d-37b6-41f1-b0d5-4a95bf108ec6",
   "metadata": {},
   "source": [
    "### Exibir início e fim do df ###\n",
    "\n",
    "Vamos exibir apenas as cinco primeiras e cinco últimas linhas para entender a estrutura do DataFrame:\n"
   ]
  },
  {
   "cell_type": "code",
   "execution_count": null,
   "id": "d9ad8831",
   "metadata": {},
   "outputs": [],
   "source": [
    "# 5 primeiras linhas\n",
    "print(dados2.head())\n",
    "print()\n",
    "# 5 últimas linhas\n",
    "print(dados2.tail())\n"
   ]
  },
  {
   "cell_type": "markdown",
   "id": "c4c123f3-4e9a-443f-acca-031c80200dba",
   "metadata": {},
   "source": [
    "### Visualizar países que nunca ganharam uma Copa ###\n",
    "\n",
    "1. Podemos mostrar apenas as linhas que possuem valores nulos na coluna \"Ano\" do DataFrame, usando os métodos isna() ou isnull() para criar uma máscara booleana e, em seguida, aplicá-la para filtrar as linhas:\n"
   ]
  },
  {
   "cell_type": "code",
   "execution_count": 34,
   "id": "2dd074a0",
   "metadata": {},
   "outputs": [
    {
     "name": "stdout",
     "output_type": "stream",
     "text": [
      "        País  Ano  Titulos  Participações        Continente\n",
      "2    Bélgica  NaN        0             14            Europa\n",
      "5    Holanda  NaN        0             11            Europa\n",
      "10   Croácia  NaN        0              6            Europa\n",
      "11  Portugal  NaN        0              8            Europa\n",
      "12    México  NaN        0             18  América do Norte\n",
      "13     Japão  NaN        0              7              Ásia\n",
      "14    Suécia  NaN        0             12            Europa\n",
      "15    Sérvia  NaN        0             13            Europa\n",
      "16     Chile  NaN        0              9    América do Sul\n"
     ]
    }
   ],
   "source": [
    "# Método 1: Usando 'isna()'\n",
    "linhas_nulas = dados2[dados2['Ano'].isna()]\n",
    "\n",
    "# Método 2: Usando 'isnull()'\n",
    "linhas_nulas = dados2[dados2['Ano'].isnull()]\n",
    "\n",
    "print(linhas_nulas)"
   ]
  },
  {
   "cell_type": "markdown",
   "id": "fa90d56b",
   "metadata": {},
   "source": [
    "2. Outra maneira é simplesmente retornar as linhas que contém o valor '0' na coluna 'Títulos'. Vamos usar a mesma abordagem de criar uma máscara booleana usando uma condição de igualdade:"
   ]
  },
  {
   "cell_type": "code",
   "execution_count": 35,
   "id": "4e0c5fd3",
   "metadata": {},
   "outputs": [
    {
     "name": "stdout",
     "output_type": "stream",
     "text": [
      "        País  Titulos\n",
      "2    Bélgica        0\n",
      "5    Holanda        0\n",
      "10   Croácia        0\n",
      "11  Portugal        0\n",
      "12    México        0\n",
      "13     Japão        0\n",
      "14    Suécia        0\n",
      "15    Sérvia        0\n",
      "16     Chile        0\n"
     ]
    }
   ],
   "source": [
    "# Filtrar as linhas com valor 0 na coluna 'Titulos'\n",
    "paises_sem_titulo = dados2[dados2['Titulos'] == 0]\n",
    "\n",
    "print(paises_sem_titulo[['País','Titulos']])"
   ]
  },
  {
   "cell_type": "markdown",
   "id": "575a7f24",
   "metadata": {},
   "source": [
    "### Identificar o país com o maior número de títulos e o país com o maior número de participações ###\n",
    "\n",
    "Para isso usamos os métodos idxmax() e max().\n",
    "\n",
    "Vamos usar o método idxmax() para encontrar o índice da linha que contém o maior valor na coluna \"Titulos\" e na coluna \"Participações\".  \n",
    "Em seguida, usaremos o método loc[] para acessar essa linha no DataFrame e obter o valor correspondente na coluna \"País\"."
   ]
  },
  {
   "cell_type": "code",
   "execution_count": 37,
   "id": "c8df1925",
   "metadata": {},
   "outputs": [
    {
     "name": "stdout",
     "output_type": "stream",
     "text": [
      "País com mais títulos: Brasil (5 títulos)\n",
      "País com mais participações: Brasil (22 participações)\n"
     ]
    }
   ],
   "source": [
    "# Identificar o país com maior número de títulos\n",
    "pais_mais_titulos = dados2.loc[dados2['Titulos'].idxmax()]['País']\n",
    "max_titulos = dados2['Titulos'].max()\n",
    "\n",
    "# Identificar o país com maior número de participações\n",
    "pais_mais_participacoes = dados2.loc[dados2['Participações'].idxmax()]['País']\n",
    "max_participacoes = dados2['Participações'].max()\n",
    "\n",
    "print(f\"País com mais títulos: {pais_mais_titulos} ({max_titulos} títulos)\")\n",
    "print(f\"País com mais participações: {pais_mais_participacoes} ({max_participacoes} participações)\")"
   ]
  },
  {
   "cell_type": "markdown",
   "id": "43a7d3a8",
   "metadata": {},
   "source": [
    "## Comparação de Países"
   ]
  },
  {
   "cell_type": "markdown",
   "id": "aaa5a121",
   "metadata": {},
   "source": [
    "### Comparação Relativa: Calcular a relação entre o número de títulos e o número de participações para cada país. ###\n",
    "\n",
    "Assim podemos identificar países com maior eficiência em ganhar títulos em relação ao número de participações em copas.\n",
    "\n",
    "Para calcular a relação entre o número de títulos e o número de participações para cada país, podemos adicionar uma nova coluna ao DataFrame que representa essa relação.\n",
    "\n",
    "Após executar o código, o DataFrame dados terá uma nova coluna chamada \"Rel_Titulos_Partic\" que representa a relação entre o número de títulos e o número de participações para cada país.\n",
    "\n",
    "Assim poderemos ver quais países têm uma proporção mais alta de títulos em relação às participações e quais têm uma proporção mais baixa."
   ]
  },
  {
   "cell_type": "code",
   "execution_count": 38,
   "id": "694e0acf",
   "metadata": {},
   "outputs": [
    {
     "name": "stdout",
     "output_type": "stream",
     "text": [
      "          País     Ano  Titulos  Participações        Continente  \\\n",
      "0       Brasil  1958.0        5             22    América do Sul   \n",
      "1      Uruguai  1930.0        2             14    América do Sul   \n",
      "2      Bélgica     NaN        0             14            Europa   \n",
      "3   Inglaterra  1966.0        1             16            Europa   \n",
      "4      Espanha  2010.0        1             16            Europa   \n",
      "5      Holanda     NaN        0             11            Europa   \n",
      "6       Itália  1934.0        4             18            Europa   \n",
      "7    Argentina  1978.0        3             18    América do Sul   \n",
      "8     Alemanha  1954.0        4             20            Europa   \n",
      "9       França  1998.0        2             16            Europa   \n",
      "10     Croácia     NaN        0              6            Europa   \n",
      "11    Portugal     NaN        0              8            Europa   \n",
      "12      México     NaN        0             18  América do Norte   \n",
      "13       Japão     NaN        0              7              Ásia   \n",
      "14      Suécia     NaN        0             12            Europa   \n",
      "15      Sérvia     NaN        0             13            Europa   \n",
      "16       Chile     NaN        0              9    América do Sul   \n",
      "\n",
      "    Rel_Titulos_Partic %  \n",
      "0              22.727273  \n",
      "1              14.285714  \n",
      "2               0.000000  \n",
      "3               6.250000  \n",
      "4               6.250000  \n",
      "5               0.000000  \n",
      "6              22.222222  \n",
      "7              16.666667  \n",
      "8              20.000000  \n",
      "9              12.500000  \n",
      "10              0.000000  \n",
      "11              0.000000  \n",
      "12              0.000000  \n",
      "13              0.000000  \n",
      "14              0.000000  \n",
      "15              0.000000  \n",
      "16              0.000000  \n"
     ]
    }
   ],
   "source": [
    "# Calcular a relação entre títulos e participações\n",
    "dados2['Rel_Titulos_Partic %'] = (dados2['Titulos'] / dados2['Participações']) * 100\n",
    "\n",
    "print(dados2)"
   ]
  },
  {
   "cell_type": "markdown",
   "id": "b457ccae",
   "metadata": {},
   "source": [
    "## Ranking ##\n",
    "\n",
    "Vamos criar um ranking com base no número de títulos e participações. Para isso, vamos usar a função ***rank()*** do Pandas.\n",
    "\n",
    "Essa função atribuirá posições de ranking para cada país com base nos valores das colunas \"Titulos\" e \"Participações\".\n",
    "\n",
    "Neste exemplo, a função rank() é aplicada às colunas \"Titulos\" e \"Participações\" do DataFrame dados. O argumento ascending=False especifica que o ranking deve ser do maior para o menor valor. O argumento method='min' é usado para lidar com empates, atribuindo a mesma classificação para valores iguais.\n",
    "\n",
    "Após executar o código, o DataFrame dados terá duas novas colunas: \"Ranking_Titulos\" e \"Ranking_Participacoes\", que representam o ranking de países com base no número de títulos e participações, respectivamente.\n",
    "\n",
    "Quanto menor o valor do ranking, melhor é o desempenho do país nesse critério."
   ]
  },
  {
   "cell_type": "code",
   "execution_count": 46,
   "id": "f60a4d36",
   "metadata": {},
   "outputs": [
    {
     "name": "stdout",
     "output_type": "stream",
     "text": [
      "          País  Ranking_Titulos  Ranking_Participacoes\n",
      "0       Brasil              1.0                    1.0\n",
      "1      Uruguai              5.0                    9.0\n",
      "2      Bélgica              9.0                    9.0\n",
      "3   Inglaterra              7.0                    6.0\n",
      "4      Espanha              7.0                    6.0\n",
      "5      Holanda              9.0                   13.0\n",
      "6       Itália              2.0                    3.0\n",
      "7    Argentina              4.0                    3.0\n",
      "8     Alemanha              2.0                    2.0\n",
      "9       França              5.0                    6.0\n",
      "10     Croácia              9.0                   17.0\n",
      "11    Portugal              9.0                   15.0\n",
      "12      México              9.0                    3.0\n",
      "13       Japão              9.0                   16.0\n",
      "14      Suécia              9.0                   12.0\n",
      "15      Sérvia              9.0                   11.0\n",
      "16       Chile              9.0                   14.0\n"
     ]
    }
   ],
   "source": [
    "# Criar ranking com base no número de títulos\n",
    "dados2['Ranking_Titulos'] = dados2['Titulos'].rank(ascending=False, method='min')\n",
    "\n",
    "# Criar ranking com base no número de participações\n",
    "dados2['Ranking_Participacoes'] = dados2['Participações'].rank(ascending=False, method='min')\n",
    "\n",
    "print(dados2[['País','Ranking_Titulos','Ranking_Participacoes']])"
   ]
  },
  {
   "cell_type": "markdown",
   "id": "0b963019",
   "metadata": {},
   "source": [
    "### Tratamento de Valores Ausentes ###\n",
    "\n",
    "Como tratar os valores ausentes na coluna \"Ano\", substituindo-os pelo valor zero.\n",
    "\n",
    "Para tratar os valores ausentes na coluna \"Ano\" e substituí-los pelo valor zero, podemos usar o método ***fillna()*** do Pandas.  \n",
    "\n",
    "Para exemplificar, vamos usar o dataframe *dados* (o primeiro criado anteriormente).\n"
   ]
  },
  {
   "cell_type": "code",
   "execution_count": 55,
   "id": "3b7d9b7e",
   "metadata": {
    "scrolled": false
   },
   "outputs": [
    {
     "name": "stdout",
     "output_type": "stream",
     "text": [
      "          País     Ano  Titulos  Participações\n",
      "0       Brasil  1958.0        5             22\n",
      "1      Uruguai  1930.0        2             14\n",
      "2      Bélgica     0.0        0             14\n",
      "3   Inglaterra  1966.0        1             16\n",
      "4      Espanha  2010.0        1             16\n",
      "5      Holanda     0.0        0             11\n",
      "6       Itália  1934.0        4             18\n",
      "7    Argentina  1978.0        3             18\n",
      "8     Alemanha  1954.0        4             20\n",
      "9       França  1998.0        2             16\n",
      "10     Croácia     0.0        0              6\n",
      "11    Portugal     0.0        0              8\n",
      "12      México     0.0        0             18\n",
      "13       Japão     0.0        0              7\n",
      "14      Suécia     0.0        0             12\n"
     ]
    }
   ],
   "source": [
    "# Substituir valores ausentes na coluna 'Ano' pelo valor zero\n",
    "dados['Ano'] = dados['Ano'].fillna(0)\n",
    "\n",
    "print(dados)"
   ]
  },
  {
   "cell_type": "markdown",
   "id": "b2c7e098",
   "metadata": {},
   "source": [
    "### Filtrar os países que ganharam ao menos um título. ###\n",
    "\n",
    "Para filtrar os países que ganharam ao menos um título (ou seja, têm o valor da coluna \"Titulos\" maior que 0) no DataFrame, você podemos empregar a função query() do Pandas ou a indexação booleana."
   ]
  },
  {
   "cell_type": "code",
   "execution_count": 56,
   "id": "490d4f4b",
   "metadata": {},
   "outputs": [
    {
     "name": "stdout",
     "output_type": "stream",
     "text": [
      "         País     Ano  Titulos  Participações\n",
      "0      Brasil  1958.0        5             22\n",
      "1     Uruguai  1930.0        2             14\n",
      "3  Inglaterra  1966.0        1             16\n",
      "4     Espanha  2010.0        1             16\n",
      "6      Itália  1934.0        4             18\n",
      "7   Argentina  1978.0        3             18\n",
      "8    Alemanha  1954.0        4             20\n",
      "9      França  1998.0        2             16\n"
     ]
    }
   ],
   "source": [
    "# 1. Filtro com query()\n",
    "\n",
    "# Filtrar os países que ganharam mais de um título usando query()\n",
    "paises_com_mais_de_um_titulo = dados.query('Titulos > 0')\n",
    "\n",
    "print(paises_com_mais_de_um_titulo)"
   ]
  },
  {
   "cell_type": "code",
   "execution_count": 57,
   "id": "733eae0a",
   "metadata": {},
   "outputs": [
    {
     "name": "stdout",
     "output_type": "stream",
     "text": [
      "         País     Ano  Titulos  Participações\n",
      "0      Brasil  1958.0        5             22\n",
      "1     Uruguai  1930.0        2             14\n",
      "3  Inglaterra  1966.0        1             16\n",
      "4     Espanha  2010.0        1             16\n",
      "6      Itália  1934.0        4             18\n",
      "7   Argentina  1978.0        3             18\n",
      "8    Alemanha  1954.0        4             20\n",
      "9      França  1998.0        2             16\n"
     ]
    }
   ],
   "source": [
    "# 2. Indexação booleana\n",
    "\n",
    "# Filtrar os países que ganharam mais de um título usando indexação booleana\n",
    "paises_com_mais_de_um_titulo = dados[dados['Titulos'] > 0]\n",
    "\n",
    "print(paises_com_mais_de_um_titulo)"
   ]
  },
  {
   "cell_type": "markdown",
   "id": "514db41a",
   "metadata": {},
   "source": [
    "## Como agrupar os países por Continente? ##\n",
    "\n",
    "Para agrupar os países por continente, vamos usar o df **dados2** que possui a coluna Continente, que representa o continente de cada país.\n",
    "Empregaremos o método groupby() do Pandas. "
   ]
  },
  {
   "cell_type": "markdown",
   "id": "c05bb450",
   "metadata": {},
   "source": [
    "### Contar países por Continente ###\n",
    "\n",
    "Para contar quantos países de cada continente estão no DataFrame, podemos usar o método value_counts() na coluna \"Continente\". Isso contará o número de ocorrências de cada valor na coluna e fornecerá a contagem de países para cada continente. \n",
    "\n",
    "O resultado será uma Série que mostra a contagem solicitada."
   ]
  },
  {
   "cell_type": "code",
   "execution_count": 64,
   "id": "a45f3ca5",
   "metadata": {
    "scrolled": true
   },
   "outputs": [
    {
     "name": "stdout",
     "output_type": "stream",
     "text": [
      "Continente\n",
      "Europa              11\n",
      "América do Sul       4\n",
      "América do Norte     1\n",
      "Ásia                 1\n",
      "Name: count, dtype: int64\n",
      "\n",
      "         Continente  Contagem\n",
      "0            Europa        11\n",
      "1    América do Sul         4\n",
      "2  América do Norte         1\n",
      "3              Ásia         1\n"
     ]
    }
   ],
   "source": [
    "# Contar quantos países de cada continente estão no DataFrame\n",
    "contagem_por_continente = dados2['Continente'].value_counts()\n",
    "\n",
    "print(contagem_por_continente)\n",
    "print()\n",
    "\n",
    "# Converter a Série em um DataFrame e renomear as colunas: método reset_index()\n",
    "contagem_por_continente_df = contagem_por_continente.reset_index()\n",
    "contagem_por_continente_df.columns = ['Continente', 'Contagem']\n",
    "\n",
    "print(contagem_por_continente_df)"
   ]
  },
  {
   "cell_type": "markdown",
   "id": "1ae3c39e",
   "metadata": {},
   "source": [
    "### Soma de títulos por continente ###\n",
    "\n",
    "Usaremos o método groupby() para agrupar os países por continente e calcular a soma total de títulos por continente. O resultado será um objeto Series que mostra a soma de títulos para cada continente."
   ]
  },
  {
   "cell_type": "code",
   "execution_count": 58,
   "id": "3fc7f8e1",
   "metadata": {},
   "outputs": [
    {
     "name": "stdout",
     "output_type": "stream",
     "text": [
      "Continente\n",
      "América do Norte     0\n",
      "América do Sul      10\n",
      "Europa              12\n",
      "Ásia                 0\n",
      "Name: Titulos, dtype: int64\n"
     ]
    }
   ],
   "source": [
    "# Agrupar os países por continente e calcular a soma de títulos por continente\n",
    "grupo_continente = dados2.groupby('Continente')['Titulos'].sum()\n",
    "\n",
    "print(grupo_continente)"
   ]
  },
  {
   "cell_type": "markdown",
   "id": "783cbf27",
   "metadata": {},
   "source": [
    "## Outliers ##"
   ]
  },
  {
   "cell_type": "markdown",
   "id": "b0c7d494",
   "metadata": {},
   "source": [
    "### Como Identificar e analisar países que são outliers em termos de participações ou títulos? ###\n",
    "\n",
    "A identificação e análise de países que são outliers em termos de participações ou títulos envolvem a detecção de valores extremos ou incomuns nos dados. Para fazer isso, você pode usar técnicas estatísticas e gráficos. Aqui está uma abordagem geral:\n",
    "\n",
    "1. Box Plots:\n",
    "\n",
    "Podemos criar box plots separados para as colunas \"Participações\" e \"Títulos\".\n",
    "Países com valores muito acima ou abaixo das áreas \"whiskers\" dos box plots podem ser considerados outliers.\n",
    "\n",
    "2. Desvio Padrão:\n",
    "\n",
    "Podemos calcular a média e o desvio padrão das colunas \"Participações\" e \"Títulos\", considerandoe como outliers países cujos valores estejam a um número específico de desvios padrão da média.\n",
    "\n",
    "3. Z-Score:\n",
    "\n",
    "Podemos também calcular o Z-score para cada país em relação às colunas \"Participações\" e \"Títulos\".\n",
    "Países com Z-scores acima de um certo limite podem ser considerados outliers.\n",
    "\n",
    "4. Percentis:\n",
    "\n",
    "Calcular os percentis (por exemplo, 1º e 99º) para as colunas \"Participações\" e \"Títulos\".\n",
    "Países com valores fora desses percentis podem ser considerados outliers.\n",
    "\n",
    "5. Análise Visual:\n",
    "\n",
    "Criar scatter plots para visualizar a relação entre participações e títulos.\n",
    "Identificamospaíses que se destacam como exceções ou afastados da maioria dos outros pontos.\n",
    "\n",
    "A definição de \"outlier\" pode variar com base na sua análise e objetivos.\n",
    "\n",
    "Como exemplo vejamos uma análise de Boxplot para o dataframe dados2."
   ]
  },
  {
   "cell_type": "code",
   "execution_count": 66,
   "id": "4af4d5a8",
   "metadata": {},
   "outputs": [
    {
     "data": {
      "image/png": "[encoded data removed]",
      "text/plain": [
       "<Figure size 600x400 with 1 Axes>"
      ]
     },
     "metadata": {},
     "output_type": "display_data"
    },
    {
     "data": {
      "image/png": "[encoded data removed]",
      "text/plain": [
       "<Figure size 600x400 with 1 Axes>"
      ]
     },
     "metadata": {},
     "output_type": "display_data"
    }
   ],
   "source": [
    "# Criar box plot para a coluna 'Titulos'\n",
    "plt.figure(figsize=(6, 4))\n",
    "sns.boxplot(x=dados['Titulos'])\n",
    "plt.title('Box Plot de Títulos')\n",
    "plt.show()\n",
    "\n",
    "# Criar box plot para a coluna 'Participações'\n",
    "plt.figure(figsize=(6, 4))\n",
    "sns.boxplot(x=dados['Participações'])\n",
    "plt.title('Box Plot de Participações')\n",
    "plt.show()"
   ]
  },
  {
   "cell_type": "markdown",
   "id": "08271af9",
   "metadata": {},
   "source": [
    "## Matrizes de Desempenho ## \n",
    "\n",
    "Vamos criar uma matriz de cores para visualizar o desempenho de diferentes países em relação a títulos e participações.\n",
    "Cores diferentes podem representar diferentes níveis de desempenho.\n",
    "\n",
    "Para criar uma matriz de cores que visualiza o desempenho de diferentes países em relação a títulos e participações, podemos usar a biblioteca Matplotlib para criar um gráfico de heatmap. Nesse gráfico, as cores representarão os níveis de desempenho, com cores diferentes para diferentes faixas de valores. \n",
    "\n",
    "Neste exemplo, a função ***corr()*** será empregada para calcular a matriz de correlação entre as colunas \"Titulos\" e \"Participações\". Em seguida, a biblioteca Seaborn será usada para criar um heatmap dessa matriz.\n",
    "O argumento ***cmap*** define a paleta de cores a ser usada, e você pode escolher uma paleta que melhor represente diferentes níveis de desempenho.\n",
    "\n",
    "O heatmap mostrará uma matriz de cores onde os tons representam os níveis de correlação entre títulos e participações para cada país. Cores mais claras ou escuras indicarão diferentes níveis de desempenho. \n",
    "\n",
    "**Como interpretar essa matriz de correlação?**\n",
    "\n",
    "A matriz de correlação é uma representação visual das relações entre as variáveis, mostrando como elas se relacionam entre si. No contexto da matriz que vamos criar, que compara títulos e participações em Copas do Mundo, a interpretação da matriz de correlação depende das cores exibidas e dos valores presentes.\n",
    "\n",
    "A matriz de correlação geralmente varia entre -1 e 1, onde:\n",
    "\n",
    "- Um valor próximo a 1 indica uma correlação positiva forte, o que significa que as variáveis aumentam ou diminuem juntas.\n",
    "- Um valor próximo a -1 indica uma correlação negativa forte, o que significa que uma variável aumenta enquanto a outra diminui.\n",
    "- Um valor próximo a 0 indica uma correlação fraca ou nula, o que significa que as variáveis têm pouca relação entre si.\n",
    "\n",
    "No caso da matriz de correlação entre títulos e participações, podemos interpretar da seguinte maneira:\n",
    "\n",
    "**Correlação Positiva (valores próximos a 1):**\n",
    "\n",
    "Se a célula correspondente à interseção de \"Titulos\" e \"Participações\" for próxima a 1, isso indica que países com mais títulos tendem a ter mais participações. Isso faz sentido, pois países que ganham títulos provavelmente participam de mais edições do torneio.\n",
    "\n",
    "**Correlação Negativa (valores próximos a -1):**\n",
    "\n",
    "Uma correlação negativa próxima a -1 não faria muito sentido nesse contexto. Seria estranho esperar que países com mais títulos tivessem menos participações.\n",
    "\n",
    "**Correlação Fraca (valores próximos a 0):**\n",
    "\n",
    "Se a célula tiver um valor próximo a 0, isso indica que não há uma forte relação entre o número de títulos e o número de participações. Em outras palavras, ganhar títulos não está fortemente relacionado ao número de vezes que um país participou.\n",
    "\n",
    "Obs.: A matriz de correlação não necessariamente implica causalidade. Ela apenas mostra como as variáveis se relacionam estatisticamente. No caso de títulos e participações em Copas do Mundo, outras variáveis não incluídas na análise (como talento dos jogadores, estratégias de equipe, etc.) também podem influenciar os resultados."
   ]
  },
  {
   "cell_type": "code",
   "execution_count": 52,
   "id": "68a726cf",
   "metadata": {},
   "outputs": [
    {
     "data": {
      "image/png": "[encoded data removed]",
      "text/plain": [
       "<Figure size 800x600 with 2 Axes>"
      ]
     },
     "metadata": {},
     "output_type": "display_data"
    }
   ],
   "source": [
    "import pandas as pd\n",
    "import matplotlib.pyplot as plt\n",
    "import seaborn as sns\n",
    "\n",
    "# Suponha que 'dados' seja o seu DataFrame\n",
    "\n",
    "# Criar uma matriz de correlação entre títulos e participações\n",
    "correlation_matrix = dados2[['Titulos', 'Participações']].corr()\n",
    "\n",
    "# Criar um heatmap usando a biblioteca Seaborn\n",
    "plt.figure(figsize=(8, 6))\n",
    "sns.heatmap(correlation_matrix, annot=True, cmap='YlGnBu', linewidths=.5)\n",
    "plt.title('Matriz de Desempenho: Títulos vs. Participações')\n",
    "plt.show()"
   ]
  },
  {
   "cell_type": "markdown",
   "id": "8d3e9cd3",
   "metadata": {},
   "source": [
    "### Gráficos ###\n",
    "\n",
    "Plotar um gráfico que mostre os países e a quantidade de títulos obtidos."
   ]
  },
  {
   "cell_type": "code",
   "execution_count": 68,
   "id": "982912a8",
   "metadata": {},
   "outputs": [
    {
     "data": {
      "image/png": "[encoded data removed]",
      "text/plain": [
       "<Figure size 1000x600 with 1 Axes>"
      ]
     },
     "metadata": {},
     "output_type": "display_data"
    }
   ],
   "source": [
    "# Ordenar os dados por número de títulos\n",
    "dados = dados.sort_values(by='Titulos', ascending=False)\n",
    "\n",
    "# Plotar o gráfico de barras\n",
    "plt.figure(figsize=(10, 6))\n",
    "sns.barplot(x='Titulos', y='País', data=dados, palette='viridis')\n",
    "plt.title('Quantidade de Títulos por País')\n",
    "plt.xlabel('Quantidade de Títulos')\n",
    "plt.ylabel('País')\n",
    "plt.show()"
   ]
  },
  {
   "cell_type": "code",
   "execution_count": 69,
   "id": "7dc61354",
   "metadata": {},
   "outputs": [
    {
     "data": {
      "image/png": "[encoded data removed]",
      "text/plain": [
       "<Figure size 1000x600 with 1 Axes>"
      ]
     },
     "metadata": {},
     "output_type": "display_data"
    }
   ],
   "source": [
    "# Mostrar somente os países que ganharam ao menos um título (titulos > 0)\n",
    "\n",
    "# Filtrar os dados para países com pelo menos um título\n",
    "dados_filtrados = dados[dados['Titulos'] > 0]\n",
    "\n",
    "# Ordenar os dados filtrados por número de títulos\n",
    "dados_filtrados = dados_filtrados.sort_values(by='Titulos', ascending=False)\n",
    "\n",
    "# Plotar o gráfico de barras\n",
    "plt.figure(figsize=(10, 6))\n",
    "sns.barplot(x='Titulos', y='País', data=dados_filtrados, palette='viridis')\n",
    "plt.title('Quantidade de Títulos por País (Pelo menos um título)')\n",
    "plt.xlabel('Quantidade de Títulos')\n",
    "plt.ylabel('País')\n",
    "plt.show()"
   ]
  },
  {
   "cell_type": "markdown",
   "id": "4a498ebe",
   "metadata": {},
   "source": [
    "### TODO: Estatísticas Descritivas: ###\n",
    "\n",
    "Calcular a média, mediana, desvio padrão, máximo e mínimo para as colunas numéricas."
   ]
  },
  {
   "cell_type": "markdown",
   "id": "8cb5ae01",
   "metadata": {},
   "source": [
    "**Renomear colunas**"
   ]
  },
  {
   "cell_type": "markdown",
   "id": "aa87e86c-9882-497a-b976-ce4db593d8f6",
   "metadata": {},
   "source": [
    "É possível renomear uma ou mais colunas de um DF usando o método rename(). Para tal, passamos um mapeamento de dicionário para o parâmetro \"columns\" contendo pares chave:valor nos quais a chave é o nome da coluna a renomear, e o valor é o novo nome que será usado.\n",
    "\n",
    "Por exemplo, vamos renomear a coluna \"Titulos\" para \"Campeonatos\":\n"
   ]
  },
  {
   "cell_type": "code",
   "execution_count": null,
   "id": "19a1d58e-2396-4e6c-aeab-2c385270db1d",
   "metadata": {},
   "outputs": [],
   "source": [
    "# Renomear uma coluna \n",
    "dados2=dados.rename(columns = {'Titulos':'Campeonatos'})\n",
    "print(dados2.columns)\n"
   ]
  },
  {
   "cell_type": "markdown",
   "id": "c1082da2-41ca-4657-95f6-cc04ee086e26",
   "metadata": {},
   "source": [
    "Uma alternativa é usar o parâmetro axis='columns' ou axis='1':"
   ]
  },
  {
   "cell_type": "code",
   "execution_count": null,
   "id": "79eefc48-5d89-4ad1-80a3-bb09a7168b74",
   "metadata": {},
   "outputs": [],
   "source": [
    "# Renomear a coluna de volta\n",
    "dados2=dados.rename({'Campeonatos':'Titulos'}, axis='columns')\n",
    "print(dados2.columns)\n"
   ]
  },
  {
   "cell_type": "markdown",
   "id": "da22ea43-6283-453f-8345-29cc98a6a441",
   "metadata": {},
   "source": [
    "Para alterar o nome da coluna in loco (sem criar outro df), usamos novamente o parâmetro inplace:\n"
   ]
  },
  {
   "cell_type": "code",
   "execution_count": null,
   "id": "9b885d3d-cd13-4a29-aa8d-448b7006cd3d",
   "metadata": {},
   "outputs": [],
   "source": [
    "# Renomear coluna no DataFrame atual (inplace).\n",
    "dados2.rename({'Titulos':'Campeonatos'}, axis='columns', inplace=True)\n",
    "print(dados2.columns)"
   ]
  },
  {
   "cell_type": "markdown",
   "id": "8693084d-e88b-47ed-8a00-aab53fdfc30b",
   "metadata": {},
   "source": [
    "Para renomear múltiplas colunas o processo é o mesmo, bastando passá-las como um mapeamento de dicionário.\n",
    "Por exemplo, vamos renomear as colunas \"Campeonatos\" e \"Ano\" para \"Titulos\" e \"Primeiro_Titulo\" respectivamente no df dados2:"
   ]
  },
  {
   "cell_type": "code",
   "execution_count": null,
   "id": "2cfa6e09-2923-4cc2-81f1-4e16b440e68f",
   "metadata": {},
   "outputs": [],
   "source": [
    "# Renomear várias colunas de uma vez no DataFrame atual.\n",
    "dados2.rename({'Campeonatos':'Titulos', 'Ano':'Primeiro_Titulo'}, axis='columns', inplace=True)\n",
    "print(dados2.columns)"
   ]
  },
  {
   "cell_type": "markdown",
   "id": "faa5e4c8-cbe4-4f2b-8c1f-da77afe1bea3",
   "metadata": {},
   "source": [
    "Também podemos renomear todas as colunas de um dataframe de uma vez, passando para isso uma lista com os novos nomes a usar. O comprimento da lista deve ser igual ao número de colunas existentes no df, e as colunas serão renomeadas na ordem em que aparecem.\n",
    "\n",
    "Note que neste caso renomeamos as colunas SEM usar o método rename().\n",
    "\n",
    "Por exemplo:"
   ]
  },
  {
   "cell_type": "code",
   "execution_count": null,
   "id": "3c3ec33c-ba5a-4fc7-92f1-65663fcc9f59",
   "metadata": {},
   "outputs": [],
   "source": [
    "# Renomear colunas com lista\n",
    "nomes = ['Nação','Ano_Ganhou','Qtde_Titulos']\n",
    "dados2.columns = nomes\n",
    "print(dados2.columns)"
   ]
  },
  {
   "cell_type": "markdown",
   "id": "73a25ee6-ba5c-4c0f-8b10-3175b0ed709e",
   "metadata": {},
   "source": [
    "**Renomear colunas adicionando sufixos ou prefixos**\n",
    "\n",
    "Às vezes precisamos renomear colunas adicionando sufixos ou prefixos na forma de uma sequência de caracteres. Podemos fazer isso usando os métodos add_prefix() ou add_suffix(). Por exemplo, vamos adicionar o prefixo \"copa_\"  a todas as colunas do dataframe dados2:"
   ]
  },
  {
   "cell_type": "code",
   "execution_count": null,
   "id": "0df0ad03-4c91-44a4-ab19-705c03797291",
   "metadata": {},
   "outputs": [],
   "source": [
    "# Renomear todas as colunas adicionando um prefixo\n",
    "dados2 = dados2.add_prefix('copa_')\n",
    "print(dados2.columns)"
   ]
  },
  {
   "cell_type": "markdown",
   "id": "325c9060-d50f-49b2-ae8f-c7f5e8391dbe",
   "metadata": {},
   "source": [
    "Mais aqui: https://pandas.pydata.org/docs/reference/api/pandas.DataFrame.add_prefix.html\n",
    "\n",
    "Para remover um prefixo ou sufixo, podemos usar (entre outros) o método str.replace(), que substitui todas as ocorrências de uma determinada string por outra string (ou nenhuma string, que é o caso). Vamos remover o prefixo \"copa_\" adicionado anteriormente para testar:"
   ]
  },
  {
   "cell_type": "code",
   "execution_count": null,
   "id": "80a7b248-3193-4ed5-8f2f-491e94d01258",
   "metadata": {},
   "outputs": [],
   "source": [
    "# Remover prefixo com método str.replace\n",
    "dados2.columns = dados.columns.str.replace('copa_', '')\n",
    "dados2"
   ]
  },
  {
   "cell_type": "markdown",
   "id": "4a3e9d9c-4e1d-4cd0-b205-824a96e0caec",
   "metadata": {},
   "source": [
    "Cuidado ao usar esse método para remover prefixos e sufixos, pois se houverem outras sequências de caracteres nos nomes das colunas iguais às que se deseja remover, estas também serão removidas, alterando de forma indesejada os nomes."
   ]
  },
  {
   "cell_type": "code",
   "execution_count": null,
   "id": "228eddc5-b2c2-4590-9f00-64ec67c5b274",
   "metadata": {},
   "outputs": [],
   "source": []
  }
 ],
 "metadata": {
  "kernelspec": {
   "display_name": "Python 3 (ipykernel)",
   "language": "python",
   "name": "python3"
  },
  "language_info": {
   "codemirror_mode": {
    "name": "ipython",
    "version": 3
   },
   "file_extension": ".py",
   "mimetype": "text/x-python",
   "name": "python",
   "nbconvert_exporter": "python",
   "pygments_lexer": "ipython3",
   "version": "3.11.4"
  }
 },
 "nbformat": 4,
 "nbformat_minor": 5
}
