{
 "cells": [
  {
   "cell_type": "markdown",
   "id": "08d19265",
   "metadata": {},
   "source": [
    "### Biblioteca Pandas"
   ]
  },
  {
   "cell_type": "code",
   "execution_count": 1,
   "id": "1469caa6",
   "metadata": {},
   "outputs": [
    {
     "name": "stdout",
     "output_type": "stream",
     "text": [
      "Collecting pandas\n",
      "  Obtaining dependency information for pandas from https://files.pythonhosted.org/packages/9e/71/756a1be6bee0209d8c0d8c5e3b9fc72c00373f384a4017095ec404aec3ad/pandas-2.0.3-cp311-cp311-win_amd64.whl.metadata\n",
      "  Downloading pandas-2.0.3-cp311-cp311-win_amd64.whl.metadata (18 kB)\n",
      "Requirement already satisfied: python-dateutil>=2.8.2 in c:\\programdata\\anaconda3\\envs\\testes\\lib\\site-packages (from pandas) (2.8.2)\n",
      "Requirement already satisfied: pytz>=2020.1 in c:\\programdata\\anaconda3\\envs\\testes\\lib\\site-packages (from pandas) (2022.7)\n",
      "Collecting tzdata>=2022.1 (from pandas)\n",
      "  Downloading tzdata-2023.3-py2.py3-none-any.whl (341 kB)\n",
      "     ---------------------------------------- 0.0/341.8 kB ? eta -:--:--\n",
      "     ----------------------- -------------- 215.0/341.8 kB 4.4 MB/s eta 0:00:01\n",
      "     -------------------------------------- 341.8/341.8 kB 5.3 MB/s eta 0:00:00\n",
      "Collecting numpy>=1.21.0 (from pandas)\n",
      "  Obtaining dependency information for numpy>=1.21.0 from https://files.pythonhosted.org/packages/72/b2/02770e60c4e2f7e158d923ab0dea4e9f146a2dbf267fec6d8dc61d475689/numpy-1.25.2-cp311-cp311-win_amd64.whl.metadata\n",
      "  Downloading numpy-1.25.2-cp311-cp311-win_amd64.whl.metadata (5.7 kB)\n",
      "Requirement already satisfied: six>=1.5 in c:\\programdata\\anaconda3\\envs\\testes\\lib\\site-packages (from python-dateutil>=2.8.2->pandas) (1.16.0)\n",
      "Downloading pandas-2.0.3-cp311-cp311-win_amd64.whl (10.6 MB)\n",
      "   ---------------------------------------- 0.0/10.6 MB ? eta -:--:--\n",
      "   -- ------------------------------------- 0.6/10.6 MB 12.4 MB/s eta 0:00:01\n",
      "   ----- ---------------------------------- 1.3/10.6 MB 12.0 MB/s eta 0:00:01\n",
      "   ------- -------------------------------- 2.1/10.6 MB 11.9 MB/s eta 0:00:01\n",
      "   --------- ------------------------------ 2.6/10.6 MB 11.9 MB/s eta 0:00:01\n",
      "   ----------- ---------------------------- 3.1/10.6 MB 11.8 MB/s eta 0:00:01\n",
      "   -------------- ------------------------- 3.7/10.6 MB 11.8 MB/s eta 0:00:01\n",
      "   ---------------- ----------------------- 4.3/10.6 MB 11.4 MB/s eta 0:00:01\n",
      "   ------------------ --------------------- 5.0/10.6 MB 11.4 MB/s eta 0:00:01\n",
      "   --------------------- ------------------ 5.8/10.6 MB 11.8 MB/s eta 0:00:01\n",
      "   ----------------------- ---------------- 6.3/10.6 MB 11.8 MB/s eta 0:00:01\n",
      "   ------------------------- -------------- 6.8/10.6 MB 11.8 MB/s eta 0:00:01\n",
      "   --------------------------- ------------ 7.4/10.6 MB 11.8 MB/s eta 0:00:01\n",
      "   ------------------------------ --------- 8.1/10.6 MB 11.8 MB/s eta 0:00:01\n",
      "   -------------------------------- ------- 8.7/10.6 MB 11.5 MB/s eta 0:00:01\n",
      "   ----------------------------------- ---- 9.4/10.6 MB 11.8 MB/s eta 0:00:01\n",
      "   ------------------------------------- -- 10.0/10.6 MB 11.8 MB/s eta 0:00:01\n",
      "   ---------------------------------------  10.5/10.6 MB 11.7 MB/s eta 0:00:01\n",
      "   ---------------------------------------  10.6/10.6 MB 11.5 MB/s eta 0:00:01\n",
      "   ---------------------------------------  10.6/10.6 MB 11.5 MB/s eta 0:00:01\n",
      "   ---------------------------------------- 10.6/10.6 MB 10.1 MB/s eta 0:00:00\n",
      "Downloading numpy-1.25.2-cp311-cp311-win_amd64.whl (15.5 MB)\n",
      "   ---------------------------------------- 0.0/15.5 MB ? eta -:--:--\n",
      "   - -------------------------------------- 0.7/15.5 MB 15.8 MB/s eta 0:00:01\n",
      "   --- ------------------------------------ 1.3/15.5 MB 16.4 MB/s eta 0:00:01\n",
      "   ---- ----------------------------------- 1.8/15.5 MB 13.1 MB/s eta 0:00:02\n",
      "   ------ --------------------------------- 2.4/15.5 MB 14.0 MB/s eta 0:00:01\n",
      "   ------- -------------------------------- 2.9/15.5 MB 13.3 MB/s eta 0:00:01\n",
      "   -------- ------------------------------- 3.4/15.5 MB 12.9 MB/s eta 0:00:01\n",
      "   ---------- ----------------------------- 4.0/15.5 MB 12.9 MB/s eta 0:00:01\n",
      "   ----------- ---------------------------- 4.6/15.5 MB 12.3 MB/s eta 0:00:01\n",
      "   ------------- -------------------------- 5.3/15.5 MB 12.6 MB/s eta 0:00:01\n",
      "   --------------- ------------------------ 6.0/15.5 MB 12.4 MB/s eta 0:00:01\n",
      "   ----------------- ---------------------- 6.8/15.5 MB 12.0 MB/s eta 0:00:01\n",
      "   ------------------ --------------------- 7.3/15.5 MB 12.0 MB/s eta 0:00:01\n",
      "   -------------------- ------------------- 7.8/15.5 MB 12.2 MB/s eta 0:00:01\n",
      "   --------------------- ------------------ 8.4/15.5 MB 12.0 MB/s eta 0:00:01\n",
      "   ----------------------- ---------------- 8.9/15.5 MB 12.2 MB/s eta 0:00:01\n",
      "   ------------------------ --------------- 9.7/15.5 MB 12.1 MB/s eta 0:00:01\n",
      "   -------------------------- ------------- 10.4/15.5 MB 11.9 MB/s eta 0:00:01\n",
      "   ---------------------------- ----------- 11.0/15.5 MB 11.7 MB/s eta 0:00:01\n",
      "   ----------------------------- ---------- 11.4/15.5 MB 11.7 MB/s eta 0:00:01\n",
      "   ------------------------------ --------- 12.0/15.5 MB 11.5 MB/s eta 0:00:01\n",
      "   -------------------------------- ------- 12.7/15.5 MB 11.7 MB/s eta 0:00:01\n",
      "   ---------------------------------- ----- 13.3/15.5 MB 11.7 MB/s eta 0:00:01\n",
      "   ----------------------------------- ---- 13.8/15.5 MB 11.7 MB/s eta 0:00:01\n",
      "   ------------------------------------ --- 14.3/15.5 MB 11.7 MB/s eta 0:00:01\n",
      "   -------------------------------------- - 14.8/15.5 MB 11.5 MB/s eta 0:00:01\n",
      "   ---------------------------------------  15.4/15.5 MB 11.5 MB/s eta 0:00:01\n",
      "   ---------------------------------------  15.5/15.5 MB 11.5 MB/s eta 0:00:01\n",
      "   ---------------------------------------  15.5/15.5 MB 11.5 MB/s eta 0:00:01\n",
      "   ---------------------------------------  15.5/15.5 MB 11.5 MB/s eta 0:00:01\n",
      "   ---------------------------------------  15.5/15.5 MB 11.5 MB/s eta 0:00:01\n",
      "   ---------------------------------------- 15.5/15.5 MB 9.5 MB/s eta 0:00:00\n",
      "Installing collected packages: tzdata, numpy, pandas\n",
      "Successfully installed numpy-1.25.2 pandas-2.0.3 tzdata-2023.3\n"
     ]
    }
   ],
   "source": [
    "!pip install pandas"
   ]
  },
  {
   "cell_type": "code",
   "execution_count": 3,
   "id": "9a7a8a71",
   "metadata": {},
   "outputs": [],
   "source": [
    "import pandas as pd"
   ]
  },
  {
   "cell_type": "code",
   "execution_count": 4,
   "id": "cc0c00aa",
   "metadata": {},
   "outputs": [
    {
     "name": "stdout",
     "output_type": "stream",
     "text": [
      "0    12\n",
      "1    34\n",
      "2    21\n",
      "3    -9\n",
      "4     0\n",
      "5     7\n",
      "dtype: int64\n"
     ]
    }
   ],
   "source": [
    "dados = pd.Series([12,34,21,-9,0,7])\n",
    "print(dados)"
   ]
  },
  {
   "cell_type": "code",
   "execution_count": 5,
   "id": "870548c7",
   "metadata": {},
   "outputs": [
    {
     "name": "stdout",
     "output_type": "stream",
     "text": [
      "[12 34 21 -9  0  7]\n",
      "RangeIndex(start=0, stop=6, step=1)\n"
     ]
    }
   ],
   "source": [
    "print(dados.values)\n",
    "print(dados.index)"
   ]
  },
  {
   "cell_type": "code",
   "execution_count": 6,
   "id": "19dfb422",
   "metadata": {},
   "outputs": [
    {
     "name": "stdout",
     "output_type": "stream",
     "text": [
      "a    12\n",
      "b    34\n",
      "c    21\n",
      "d    -9\n",
      "e     0\n",
      "f     7\n",
      "dtype: int64\n"
     ]
    }
   ],
   "source": [
    "dados = pd.Series([12,34,21,-9,0,7], index=['a','b','c','d','e','f'])\n",
    "print(dados)"
   ]
  },
  {
   "cell_type": "code",
   "execution_count": 10,
   "id": "1c7e5cd4",
   "metadata": {},
   "outputs": [
    {
     "name": "stdout",
     "output_type": "stream",
     "text": [
      "21\n",
      "b    34\n",
      "e     0\n",
      "dtype: int64\n"
     ]
    }
   ],
   "source": [
    "print(dados['c'])\n",
    "print(dados[['b','e']])"
   ]
  },
  {
   "cell_type": "code",
   "execution_count": 12,
   "id": "7d5bde3f",
   "metadata": {},
   "outputs": [
    {
     "name": "stdout",
     "output_type": "stream",
     "text": [
      "Brasil        5\n",
      "EUA           0\n",
      "Inglaterra    1\n",
      "Argentina     3\n",
      "dtype: int64\n"
     ]
    }
   ],
   "source": [
    "dicionario={'Brasil':5, 'EUA':0, 'Inglaterra':1, 'Argentina':3}\n",
    "dados = pd.Series(dicionario)\n",
    "print(dados)"
   ]
  },
  {
   "cell_type": "code",
   "execution_count": 30,
   "id": "03a14118",
   "metadata": {},
   "outputs": [
    {
     "name": "stdout",
     "output_type": "stream",
     "text": [
      "         País     Ano  Titulos\n",
      "0      Brasil  1958.0        5\n",
      "1     Uruguai  1930.0        2\n",
      "2  Inglaterra  1966.0        1\n",
      "3     Espanha  2010.0        1\n",
      "4     Holanda     NaN        0\n",
      "5      Itália  1934.0        4\n",
      "6   Argentina  1978.0        3\n"
     ]
    }
   ],
   "source": [
    "dicionario={'País':['Brasil','Uruguai','Inglaterra','Espanha','Holanda','Itália','Argentina'],\n",
    "           'Ano':[1958,1930,1966,2010,None,1934,1978],\n",
    "           'Titulos':[5,2,1,1,0,4,3]\n",
    "           }\n",
    "dados = pd.DataFrame(dicionario)\n",
    "print(dados)"
   ]
  },
  {
   "cell_type": "code",
   "execution_count": 16,
   "id": "d9ad8831",
   "metadata": {},
   "outputs": [
    {
     "name": "stdout",
     "output_type": "stream",
     "text": [
      "         País     Ano  Titulos\n",
      "0      Brasil  1958.0        5\n",
      "1     Uruguai  1930.0        2\n",
      "2  Inglaterra  1966.0        1\n",
      "3     Espanha  2010.0        1\n",
      "4     Holanda     NaN        0\n"
     ]
    }
   ],
   "source": [
    "print(dados.head())"
   ]
  },
  {
   "cell_type": "code",
   "execution_count": 17,
   "id": "55c14b0c",
   "metadata": {},
   "outputs": [
    {
     "name": "stdout",
     "output_type": "stream",
     "text": [
      "   Titulos        País     Ano\n",
      "0        5      Brasil  1958.0\n",
      "1        2     Uruguai  1930.0\n",
      "2        1  Inglaterra  1966.0\n",
      "3        1     Espanha  2010.0\n",
      "4        0     Holanda     NaN\n",
      "5        4      Itália  1934.0\n",
      "6        3   Argentina  1978.0\n"
     ]
    }
   ],
   "source": [
    "dados = pd.DataFrame(dados, columns=['Titulos','País','Ano'])\n",
    "print(dados)"
   ]
  },
  {
   "cell_type": "code",
   "execution_count": 18,
   "id": "868eeead",
   "metadata": {},
   "outputs": [
    {
     "name": "stdout",
     "output_type": "stream",
     "text": [
      "0        Brasil\n",
      "1       Uruguai\n",
      "2    Inglaterra\n",
      "3       Espanha\n",
      "4       Holanda\n",
      "5        Itália\n",
      "6     Argentina\n",
      "Name: País, dtype: object\n",
      "0    1958.0\n",
      "1    1930.0\n",
      "2    1966.0\n",
      "3    2010.0\n",
      "4       NaN\n",
      "5    1934.0\n",
      "6    1978.0\n",
      "Name: Ano, dtype: float64\n"
     ]
    }
   ],
   "source": [
    "print(dados['País'])\n",
    "print(dados.Ano)"
   ]
  },
  {
   "cell_type": "code",
   "execution_count": 20,
   "id": "e24770da",
   "metadata": {},
   "outputs": [
    {
     "name": "stdout",
     "output_type": "stream",
     "text": [
      "   Titulos        País     Ano  Participações\n",
      "0        5      Brasil  1958.0              0\n",
      "1        2     Uruguai  1930.0              0\n",
      "2        1  Inglaterra  1966.0              0\n",
      "3        1     Espanha  2010.0              0\n",
      "4        0     Holanda     NaN              0\n",
      "5        4      Itália  1934.0              0\n",
      "6        3   Argentina  1978.0              0\n"
     ]
    }
   ],
   "source": [
    "dados['Participações'] = 0\n",
    "print(dados)"
   ]
  },
  {
   "cell_type": "code",
   "execution_count": 22,
   "id": "c181e6bf",
   "metadata": {},
   "outputs": [
    {
     "name": "stdout",
     "output_type": "stream",
     "text": [
      "   Titulos        País     Ano  Participações\n",
      "0        5      Brasil  1958.0             15\n",
      "1        2     Uruguai  1930.0             12\n",
      "2        1  Inglaterra  1966.0             11\n",
      "3        1     Espanha  2010.0             10\n",
      "4        0     Holanda     NaN             10\n",
      "5        4      Itália  1934.0              9\n",
      "6        3   Argentina  1978.0             11\n"
     ]
    }
   ],
   "source": [
    "part = [15,12,11,10,10,9,11]\n",
    "dados['Participações'] = part\n",
    "print(dados)"
   ]
  },
  {
   "cell_type": "code",
   "execution_count": 24,
   "id": "f268eed3",
   "metadata": {},
   "outputs": [
    {
     "name": "stdout",
     "output_type": "stream",
     "text": [
      "   Titulos        País     Ano\n",
      "0        5      Brasil  1958.0\n",
      "1        2     Uruguai  1930.0\n",
      "2        1  Inglaterra  1966.0\n",
      "3        1     Espanha  2010.0\n",
      "4        0     Holanda     NaN\n",
      "5        4      Itália  1934.0\n",
      "6        3   Argentina  1978.0\n"
     ]
    }
   ],
   "source": [
    "del dados['Participações']\n",
    "print(dados)"
   ]
  },
  {
   "cell_type": "code",
   "execution_count": 25,
   "id": "622658f7",
   "metadata": {},
   "outputs": [
    {
     "name": "stdout",
     "output_type": "stream",
     "text": [
      "   Titulos        País     Ano\n",
      "0        5      Brasil  1958.0\n",
      "1        2     Uruguai  1930.0\n",
      "2        1  Inglaterra  1966.0\n",
      "3        1     Espanha  2010.0\n",
      "5        4      Itália  1934.0\n",
      "6        3   Argentina  1978.0\n"
     ]
    }
   ],
   "source": [
    "# drop\n",
    "dados2 = dados.drop([4])\n",
    "print(dados2)"
   ]
  },
  {
   "cell_type": "code",
   "execution_count": 26,
   "id": "42bc3704",
   "metadata": {},
   "outputs": [
    {
     "name": "stdout",
     "output_type": "stream",
     "text": [
      "   Titulos        País     Ano\n",
      "0        5      Brasil  1958.0\n",
      "1        2     Uruguai  1930.0\n",
      "2        1  Inglaterra  1966.0\n",
      "6        3   Argentina  1978.0\n"
     ]
    }
   ],
   "source": [
    "dados2 = dados.drop([4, 3, 5])\n",
    "print(dados2)"
   ]
  },
  {
   "cell_type": "code",
   "execution_count": 27,
   "id": "78ce7003",
   "metadata": {},
   "outputs": [
    {
     "name": "stdout",
     "output_type": "stream",
     "text": [
      "   Titulos        País     Ano\n",
      "0        5      Brasil  1958.0\n",
      "1        2     Uruguai  1930.0\n",
      "2        1  Inglaterra  1966.0\n",
      "3        1     Espanha  2010.0\n",
      "5        4      Itália  1934.0\n",
      "6        3   Argentina  1978.0\n"
     ]
    }
   ],
   "source": [
    "dados.drop(4, inplace=True)\n",
    "print(dados)"
   ]
  },
  {
   "cell_type": "code",
   "execution_count": 32,
   "id": "950e5168",
   "metadata": {},
   "outputs": [
    {
     "name": "stdout",
     "output_type": "stream",
     "text": [
      "         País     Ano  Titulos\n",
      "1     Uruguai  1930.0        2\n",
      "2  Inglaterra  1966.0        1\n",
      "3     Espanha  2010.0        1\n",
      "4     Holanda     NaN        0\n"
     ]
    }
   ],
   "source": [
    "print(dados[1:5])"
   ]
  },
  {
   "cell_type": "code",
   "execution_count": 35,
   "id": "20bddd01",
   "metadata": {},
   "outputs": [
    {
     "name": "stdout",
     "output_type": "stream",
     "text": [
      "         País     Ano  Titulos\n",
      "a      Brasil  1958.0        5\n",
      "b     Uruguai  1930.0        2\n",
      "c  Inglaterra  1966.0        1\n",
      "d     Espanha  2010.0        1\n",
      "e     Holanda     NaN        0\n",
      "f      Itália  1934.0        4\n",
      "g   Argentina  1978.0        3\n",
      "         País     Ano  Titulos\n",
      "b     Uruguai  1930.0        2\n",
      "c  Inglaterra  1966.0        1\n",
      "d     Espanha  2010.0        1\n",
      "e     Holanda     NaN        0\n"
     ]
    }
   ],
   "source": [
    "# Fatiamento com rótulos\n",
    "\n",
    "dicionario={'País':['Brasil','Uruguai','Inglaterra','Espanha','Holanda','Itália','Argentina'],\n",
    "           'Ano':[1958,1930,1966,2010,None,1934,1978],\n",
    "           'Titulos':[5,2,1,1,0,4,3]\n",
    "           }\n",
    "dados = pd.DataFrame(dicionario, index=['a','b','c','d','e','f','g'])\n",
    "print(dados)\n",
    "\n",
    "print(dados['b':'e'])"
   ]
  },
  {
   "cell_type": "code",
   "execution_count": 38,
   "id": "a7f86768",
   "metadata": {},
   "outputs": [
    {
     "name": "stdout",
     "output_type": "stream",
     "text": [
      "País       Uruguai\n",
      "Titulos          2\n",
      "Name: b, dtype: object\n"
     ]
    }
   ],
   "source": [
    "# Indexação com loc\n",
    "\n",
    "print(dados.loc['b',['País', 'Titulos']])"
   ]
  },
  {
   "cell_type": "code",
   "execution_count": 41,
   "id": "9f5edbd3",
   "metadata": {},
   "outputs": [
    {
     "name": "stdout",
     "output_type": "stream",
     "text": [
      "País       Uruguai\n",
      "Titulos          2\n",
      "Name: b, dtype: object\n"
     ]
    }
   ],
   "source": [
    "# Indexação com iloc\n",
    "print(dados.iloc[1,[0, 2]])"
   ]
  },
  {
   "cell_type": "code",
   "execution_count": 43,
   "id": "c96e1d58",
   "metadata": {},
   "outputs": [
    {
     "name": "stdout",
     "output_type": "stream",
     "text": [
      "a    1958.0\n",
      "b    1930.0\n",
      "c    1966.0\n",
      "d    2010.0\n",
      "Name: Ano, dtype: float64\n"
     ]
    }
   ],
   "source": [
    "# loc e listas de rótulos\n",
    "\n",
    "print(dados.loc[:'d','Ano'])"
   ]
  },
  {
   "cell_type": "code",
   "execution_count": 46,
   "id": "a38eea63",
   "metadata": {},
   "outputs": [
    {
     "name": "stdout",
     "output_type": "stream",
     "text": [
      "         País     Ano  Titulos\n",
      "g   Argentina  1978.0        3\n",
      "f      Itália  1934.0        4\n",
      "e     Holanda     NaN        0\n",
      "d     Espanha  2010.0        1\n",
      "c  Inglaterra  1966.0        1\n",
      "b     Uruguai  1930.0        2\n",
      "a      Brasil  1958.0        5\n",
      "      Ano        País  Titulos\n",
      "a  1958.0      Brasil        5\n",
      "b  1930.0     Uruguai        2\n",
      "c  1966.0  Inglaterra        1\n",
      "d  2010.0     Espanha        1\n",
      "e     NaN     Holanda        0\n",
      "f  1934.0      Itália        4\n",
      "g  1978.0   Argentina        3\n"
     ]
    }
   ],
   "source": [
    "# Ordenação por índice\n",
    "print(dados.sort_index())\n",
    "\n",
    "# Ordenação por índice em ordem inversa\n",
    "print(dados.sort_index(ascending=False))"
   ]
  },
  {
   "cell_type": "code",
   "execution_count": 48,
   "id": "0782fbe8",
   "metadata": {},
   "outputs": [
    {
     "name": "stdout",
     "output_type": "stream",
     "text": [
      "         País     Ano  Titulos\n",
      "g   Argentina  1978.0        3\n",
      "a      Brasil  1958.0        5\n",
      "d     Espanha  2010.0        1\n",
      "e     Holanda     NaN        0\n",
      "c  Inglaterra  1966.0        1\n",
      "f      Itália  1934.0        4\n",
      "b     Uruguai  1930.0        2\n"
     ]
    }
   ],
   "source": [
    "# Ordenação por colunas\n",
    "print(dados.sort_values(by='País'))"
   ]
  },
  {
   "cell_type": "code",
   "execution_count": 50,
   "id": "a23d0169",
   "metadata": {},
   "outputs": [
    {
     "name": "stdout",
     "output_type": "stream",
     "text": [
      "         País     Ano  Titulos\n",
      "e     Holanda     NaN        0\n",
      "d     Espanha  2010.0        1\n",
      "c  Inglaterra  1966.0        1\n",
      "b     Uruguai  1930.0        2\n",
      "g   Argentina  1978.0        3\n",
      "f      Itália  1934.0        4\n",
      "a      Brasil  1958.0        5\n"
     ]
    }
   ],
   "source": [
    "# Ordenação por várias colunas\n",
    "print(dados.sort_values(by=['Titulos','País']))"
   ]
  },
  {
   "cell_type": "code",
   "execution_count": null,
   "id": "948cdb9a",
   "metadata": {},
   "outputs": [],
   "source": []
  }
 ],
 "metadata": {
  "kernelspec": {
   "display_name": "Python 3 (ipykernel)",
   "language": "python",
   "name": "python3"
  },
  "language_info": {
   "codemirror_mode": {
    "name": "ipython",
    "version": 3
   },
   "file_extension": ".py",
   "mimetype": "text/x-python",
   "name": "python",
   "nbconvert_exporter": "python",
   "pygments_lexer": "ipython3",
   "version": "3.11.4"
  }
 },
 "nbformat": 4,
 "nbformat_minor": 5
}
